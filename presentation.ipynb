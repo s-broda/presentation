{
 "cells": [
  {
   "cell_type": "code",
   "execution_count": 2,
   "metadata": {
    "slideshow": {
     "slide_type": "skip"
    }
   },
   "outputs": [
    {
     "name": "stderr",
     "output_type": "stream",
     "text": [
      "\u001b[32m\u001b[1m  Activating\u001b[22m\u001b[39m environment at `C:\\Users\\sabro\\Documents\\julia\\notebooks\\ebs\\presentation\\Project.toml`\n",
      "\u001b[32m\u001b[1m    Updating\u001b[22m\u001b[39m registry at `C:\\Users\\sabro\\.julia\\registries\\General`\n",
      "\u001b[32m\u001b[1m    Updating\u001b[22m\u001b[39m git-repo `https://github.com/JuliaRegistries/General.git`\n",
      "\u001b[32m\u001b[1m   Resolving\u001b[22m\u001b[39m package versions...\n",
      "\u001b[32m\u001b[1m  No Changes\u001b[22m\u001b[39m to `C:\\Users\\sabro\\Documents\\julia\\notebooks\\ebs\\presentation\\Project.toml`\n",
      "\u001b[32m\u001b[1m  No Changes\u001b[22m\u001b[39m to `C:\\Users\\sabro\\Documents\\julia\\notebooks\\ebs\\presentation\\Manifest.toml`\n",
      "\u001b[32m\u001b[1m    Updating\u001b[22m\u001b[39m registry at `C:\\Users\\sabro\\.julia\\registries\\General`\n",
      "\u001b[32m\u001b[1m    Updating\u001b[22m\u001b[39m git-repo `https://github.com/JuliaRegistries/General.git`\n",
      "\u001b[32m\u001b[1m   Installed\u001b[22m\u001b[39m TimeSeries ─ v0.22.1\n",
      "\u001b[32m\u001b[1m    Updating\u001b[22m\u001b[39m `C:\\Users\\sabro\\Documents\\julia\\notebooks\\ebs\\presentation\\Project.toml`\n",
      " \u001b[90m [31c24e10] \u001b[39m\u001b[93m↑ Distributions v0.23.12 ⇒ v0.24.18\u001b[39m\n",
      " \u001b[90m [91a5bcdd] \u001b[39m\u001b[93m↑ Plots v0.29.9 ⇒ v1.16.2\u001b[39m\n",
      " \u001b[90m [9e3dc215] \u001b[39m\u001b[93m↑ TimeSeries v0.20.1 ⇒ v0.22.1\u001b[39m\n",
      "\u001b[32m\u001b[1m    Updating\u001b[22m\u001b[39m `C:\\Users\\sabro\\Documents\\julia\\notebooks\\ebs\\presentation\\Manifest.toml`\n",
      " \u001b[90m [d360d2e6] \u001b[39m\u001b[92m+ ChainRulesCore v0.10.1\u001b[39m\n",
      " \u001b[90m [35d6a980] \u001b[39m\u001b[92m+ ColorSchemes v3.12.1\u001b[39m\n",
      " \u001b[90m [3da002f7] \u001b[39m\u001b[93m↑ ColorTypes v0.10.12 ⇒ v0.11.0\u001b[39m\n",
      " \u001b[90m [31c24e10] \u001b[39m\u001b[93m↑ Distributions v0.23.12 ⇒ v0.24.18\u001b[39m\n",
      " \u001b[90m [c87230d0] \u001b[39m\u001b[93m↑ FFMPEG v0.3.0 ⇒ v0.4.1\u001b[39m\n",
      " \u001b[90m [1a297f60] \u001b[39m\u001b[93m↑ FillArrays v0.9.7 ⇒ v0.11.7\u001b[39m\n",
      " \u001b[90m [28b8d3ca] \u001b[39m\u001b[93m↑ GR v0.48.0 ⇒ v0.57.5\u001b[39m\n",
      " \u001b[90m [5c1252a2] \u001b[39m\u001b[92m+ GeometryBasics v0.3.12\u001b[39m\n",
      " \u001b[90m [4d00f742] \u001b[39m\u001b[91m- GeometryTypes v0.8.4\u001b[39m\n",
      " \u001b[90m [c8e1da08] \u001b[39m\u001b[92m+ IterTools v1.3.0\u001b[39m\n",
      " \u001b[90m [b964fa9f] \u001b[39m\u001b[92m+ LaTeXStrings v1.2.1\u001b[39m\n",
      " \u001b[90m [23fbe1c1] \u001b[39m\u001b[92m+ Latexify v0.15.6\u001b[39m\n",
      " \u001b[90m [90014a1f] \u001b[39m\u001b[93m↑ PDMats v0.10.1 ⇒ v0.11.0\u001b[39m\n",
      " \u001b[90m [ccf2f8ad] \u001b[39m\u001b[93m↑ PlotThemes v1.0.3 ⇒ v2.0.1\u001b[39m\n",
      " \u001b[90m [995b91a9] \u001b[39m\u001b[93m↑ PlotUtils v0.6.5 ⇒ v1.0.10\u001b[39m\n",
      " \u001b[90m [91a5bcdd] \u001b[39m\u001b[93m↑ Plots v0.29.9 ⇒ v1.16.2\u001b[39m\n",
      " \u001b[90m [3cdcf5f2] \u001b[39m\u001b[93m↑ RecipesBase v0.8.0 ⇒ v1.1.1\u001b[39m\n",
      " \u001b[90m [189a3867] \u001b[39m\u001b[93m↑ Reexport v0.2.0 ⇒ v1.1.0\u001b[39m\n",
      " \u001b[90m [6c6a2e73] \u001b[39m\u001b[92m+ Scratch v1.0.3\u001b[39m\n",
      " \u001b[90m [992d4aef] \u001b[39m\u001b[93m↑ Showoff v0.3.2 ⇒ v1.0.3\u001b[39m\n",
      " \u001b[90m [276daf66] \u001b[39m\u001b[93m↑ SpecialFunctions v0.10.3 ⇒ v1.5.1\u001b[39m\n",
      " \u001b[90m [90137ffa] \u001b[39m\u001b[93m↑ StaticArrays v0.12.5 ⇒ v1.2.2\u001b[39m\n",
      " \u001b[90m [09ab397b] \u001b[39m\u001b[92m+ StructArrays v0.5.1\u001b[39m\n",
      " \u001b[90m [9e3dc215] \u001b[39m\u001b[93m↑ TimeSeries v0.20.1 ⇒ v0.22.1\u001b[39m\n",
      " \u001b[90m [6e34b625] \u001b[39m\u001b[95m↓ Bzip2_jll v1.0.8+0 ⇒ v1.0.6+5\u001b[39m\n",
      " \u001b[90m [83423d85] \u001b[39m\u001b[95m↓ Cairo_jll v1.16.1+0 ⇒ v1.16.0+6\u001b[39m\n",
      " \u001b[90m [5ae413db] \u001b[39m\u001b[92m+ EarCut_jll v2.1.5+1\u001b[39m\n",
      " \u001b[90m [b22a6f82] \u001b[39m\u001b[95m↓ FFMPEG_jll v4.4.0+0 ⇒ v4.3.1+4\u001b[39m\n",
      " \u001b[90m [a3f928ae] \u001b[39m\u001b[95m↓ Fontconfig_jll v2.13.93+0 ⇒ v2.13.1+14\u001b[39m\n",
      " \u001b[90m [d7e528f0] \u001b[39m\u001b[95m↓ FreeType2_jll v2.10.4+0 ⇒ v2.10.1+5\u001b[39m\n",
      " \u001b[90m [0656b61e] \u001b[39m\u001b[92m+ GLFW_jll v3.3.5+0\u001b[39m\n",
      " \u001b[90m [d2c73de3] \u001b[39m\u001b[92m+ GR_jll v0.57.3+0\u001b[39m\n",
      " \u001b[90m [3b182d85] \u001b[39m\u001b[91m- Graphite2_jll v1.3.14+0\u001b[39m\n",
      " \u001b[90m [2e76f6c2] \u001b[39m\u001b[91m- HarfBuzz_jll v2.8.1+0\u001b[39m\n",
      " \u001b[90m [aacddb02] \u001b[39m\u001b[92m+ JpegTurbo_jll v2.1.0+0\u001b[39m\n",
      " \u001b[90m [dd192d2f] \u001b[39m\u001b[92m+ LibVPX_jll v1.10.0+0\u001b[39m\n",
      " \u001b[90m [7e76a0d4] \u001b[39m\u001b[92m+ Libglvnd_jll v1.3.0+3\u001b[39m\n",
      " \u001b[90m [89763e89] \u001b[39m\u001b[92m+ Libtiff_jll v4.3.0+0\u001b[39m\n",
      " \u001b[90m [ea2cea3b] \u001b[39m\u001b[92m+ Qt5Base_jll v5.15.3+0\u001b[39m\n",
      " \u001b[90m [a2964d1f] \u001b[39m\u001b[92m+ Wayland_jll v1.17.0+4\u001b[39m\n",
      " \u001b[90m [2381bf8a] \u001b[39m\u001b[92m+ Wayland_protocols_jll v1.18.0+4\u001b[39m\n",
      " \u001b[90m [935fb764] \u001b[39m\u001b[92m+ Xorg_libXcursor_jll v1.2.0+4\u001b[39m\n",
      " \u001b[90m [d091e8ba] \u001b[39m\u001b[92m+ Xorg_libXfixes_jll v5.0.3+4\u001b[39m\n",
      " \u001b[90m [a51aa0fd] \u001b[39m\u001b[92m+ Xorg_libXi_jll v1.7.10+4\u001b[39m\n",
      " \u001b[90m [d1454406] \u001b[39m\u001b[92m+ Xorg_libXinerama_jll v1.1.4+4\u001b[39m\n",
      " \u001b[90m [ec84b674] \u001b[39m\u001b[92m+ Xorg_libXrandr_jll v1.5.2+4\u001b[39m\n",
      " \u001b[90m [cc61e674] \u001b[39m\u001b[92m+ Xorg_libxkbfile_jll v1.1.0+4\u001b[39m\n",
      " \u001b[90m [12413925] \u001b[39m\u001b[92m+ Xorg_xcb_util_image_jll v0.4.0+1\u001b[39m\n",
      " \u001b[90m [2def613f] \u001b[39m\u001b[92m+ Xorg_xcb_util_jll v0.4.0+1\u001b[39m\n",
      " \u001b[90m [975044d2] \u001b[39m\u001b[92m+ Xorg_xcb_util_keysyms_jll v0.4.0+1\u001b[39m\n",
      " \u001b[90m [0d47668e] \u001b[39m\u001b[92m+ Xorg_xcb_util_renderutil_jll v0.3.9+1\u001b[39m\n",
      " \u001b[90m [c22f9ab0] \u001b[39m\u001b[92m+ Xorg_xcb_util_wm_jll v0.4.1+1\u001b[39m\n",
      " \u001b[90m [35661453] \u001b[39m\u001b[92m+ Xorg_xkbcomp_jll v1.4.2+4\u001b[39m\n",
      " \u001b[90m [33bec58e] \u001b[39m\u001b[92m+ Xorg_xkeyboard_config_jll v2.27.0+4\u001b[39m\n",
      " \u001b[90m [3161d3a3] \u001b[39m\u001b[92m+ Zstd_jll v1.5.0+0\u001b[39m\n",
      " \u001b[90m [0ac62f75] \u001b[39m\u001b[95m↓ libass_jll v0.15.1+0 ⇒ v0.14.0+4\u001b[39m\n",
      " \u001b[90m [f638f0a6] \u001b[39m\u001b[95m↓ libfdk_aac_jll v2.0.2+0 ⇒ v0.1.6+4\u001b[39m\n",
      " \u001b[90m [1270edf5] \u001b[39m\u001b[95m↓ x264_jll v2021.5.5+0 ⇒ v2020.7.14+2\u001b[39m\n",
      " \u001b[90m [dfaa095f] \u001b[39m\u001b[95m↓ x265_jll v3.5.0+0 ⇒ v3.0.0+3\u001b[39m\n",
      " \u001b[90m [d8fb68d0] \u001b[39m\u001b[92m+ xkbcommon_jll v0.9.1+5\u001b[39m\n",
      "\u001b[32m\u001b[1mPrecompiling\u001b[22m\u001b[39m project...\n",
      "\u001b[32m  ✓ \u001b[39mTimeSeries\n",
      "\u001b[32m  ✓ \u001b[39mDistributions\n",
      "\u001b[32m  ✓ \u001b[39mMarketData\n",
      "\u001b[32m  ✓ \u001b[39m\u001b[90mHypothesisTests\u001b[39m\n",
      "\u001b[32m  ✓ \u001b[39m\u001b[90mGLM\u001b[39m\n",
      "\u001b[32m  ✓ \u001b[39mKernelDensity\n",
      "\u001b[32m  ✓ \u001b[39mARCHModels\n",
      "\u001b[32m  ✓ \u001b[39mPlots\n",
      "\u001b[32m  ✓ \u001b[39mStatsPlots\n",
      "9 dependencies successfully precompiled in 39 seconds (186 already precompiled)\n"
     ]
    }
   ],
   "source": [
    "using Pkg\n",
    "Pkg.activate(\"presentation\")\n",
    "Pkg.add([\"BenchmarkTools\", \"MATLAB\", \"LoopVectorization\",\n",
    "         \"MarketData\", \"TimeSeries\", \"Distributions\",\n",
    "         \"KernelDensity\", \"StatsPlots\", \"ProgressMeter\",\n",
    "         \"ARCHModels\"])\n",
    "Pkg.update()\n"
   ]
  },
  {
   "cell_type": "markdown",
   "metadata": {
    "slideshow": {
     "slide_type": "slide"
    }
   },
   "source": [
    "##### <p style=\"text-align: center; font-size: 300%\"> The Unreasonable Effectiveness of Julia </p>\n",
    "<p style=\"text-align: center; font-size: 200%\"> Simon A. Broda </p>\n",
    "<p style=\"text-align: center; font-size: 100%\"> University of Amsterdam and Hochschule Luzern<br>\n",
    "<a href=\"mailto:simon.broda@uzh.ch\">s.a.broda@uva.nl</a> </p>\n",
    "<img src=\"EULOGO.jpg\" alt=\"LOGO\" style=\"display:block; margin-left: auto; margin-right: auto; width: 20%;\">\n",
    "<p style=\"text-align: center; font-size: 100%\"> This project has received funding from the European Research Council (ERC) under the European Union's Horizon 2020 research and innovation program (grant agreement No. 750559). </p>"
   ]
  },
  {
   "cell_type": "markdown",
   "metadata": {
    "slideshow": {
     "slide_type": "slide"
    }
   },
   "source": [
    "# Outline\n",
    "* The Julia Language\n",
    "* Refresher on ARCH Models\n",
    "* The `ARCHModels.jl` Package\n",
    "   * Usage\n",
    "   * Benchmarks\n",
    " "
   ]
  },
  {
   "cell_type": "markdown",
   "metadata": {
    "slideshow": {
     "slide_type": "slide"
    }
   },
   "source": [
    "# The Julia Language\n",
    "## General Information\n",
    "* New programming language started at MIT.\n",
    "* Designed with scientific computing in mind.\n",
    "* Version 1.0 released in August 2018 after 9 years of development.\n",
    "* Free and open source software. Available at https://julialang.org/.\n",
    "* In the words of its creators,\n",
    "> We want a language that’s open source, with a liberal license. We want the speed of C with the dynamism of Ruby. We want a\n",
    "language that’s homoiconic, with true macros like Lisp, but with obvious, familiar mathematical notation like Matlab. We want\n",
    "something as usable for general programming as Python, as easy for statistics as R, as natural for string processing as Perl, as\n",
    "powerful for linear algebra as Matlab, as good at gluing programs together as the shell. Something that is dirt simple to learn,\n",
    "yet keeps the most serious hackers happy. We want it interactive and we want it compiled.\n"
   ]
  },
  {
   "cell_type": "markdown",
   "metadata": {
    "slideshow": {
     "slide_type": "slide"
    }
   },
   "source": [
    "\n",
    "## Highlights for Scientists\n",
    "* Interactive REPL (like Matlab, Python, R, etc.) allows for exploratoty analysis, rapid prototyping.\n",
    "* Unlike these, Julia is JIT compiled, hence fast (typically within a few percent of C)\n",
    "* Syntax superficially similar to Matlab.\n",
    "* Rich type system, multiple dispatch.\n",
    "* Fast-growing eco-system with many state-of-the-art packages (e.g., `ForwardDiff.jl`, `DifferentialEquations.jl`, `JuMP`, ...).\n"
   ]
  },
  {
   "cell_type": "markdown",
   "metadata": {
    "slideshow": {
     "slide_type": "slide"
    }
   },
   "source": [
    "## A Small Taste of Julia"
   ]
  },
  {
   "cell_type": "markdown",
   "metadata": {},
   "source": [
    "* Let's say we want to implement a function that sums an array:"
   ]
  },
  {
   "cell_type": "code",
   "execution_count": null,
   "metadata": {},
   "outputs": [],
   "source": [
    "function mysum(x)\n",
    "    s = zero(eltype(x))\n",
    "    for i in 1:length(x)\n",
    "        s += x[i]\n",
    "    end\n",
    "    s\n",
    "end\n",
    "mysum([1., 2., 3.])"
   ]
  },
  {
   "cell_type": "markdown",
   "metadata": {},
   "source": [
    "* Let's benchmark it:"
   ]
  },
  {
   "cell_type": "code",
   "execution_count": null,
   "metadata": {},
   "outputs": [],
   "source": [
    "x = randn(10^7);"
   ]
  },
  {
   "cell_type": "code",
   "execution_count": null,
   "metadata": {},
   "outputs": [],
   "source": [
    "using BenchmarkTools\n",
    "@btime mysum(x); # @btime runs the code a large number of times"
   ]
  },
  {
   "cell_type": "markdown",
   "metadata": {},
   "source": [
    "* For comparison, the built-in function:"
   ]
  },
  {
   "cell_type": "code",
   "execution_count": null,
   "metadata": {},
   "outputs": [],
   "source": [
    "@btime sum(x);"
   ]
  },
  {
   "cell_type": "markdown",
   "metadata": {
    "slideshow": {
     "slide_type": "slide"
    }
   },
   "source": [
    "* Close, but we are about 3x slower.\n",
    "* But we can do better! 2nd attempt:"
   ]
  },
  {
   "cell_type": "code",
   "execution_count": null,
   "metadata": {},
   "outputs": [],
   "source": [
    "function mysum(x)\n",
    "    s = zero(eltype(x))\n",
    "    @simd for i in 1:length(x)\n",
    "        s += x[i]\n",
    "    end\n",
    "    s\n",
    "end\n",
    "mysum([1., 2., 3.])"
   ]
  },
  {
   "cell_type": "code",
   "execution_count": null,
   "metadata": {},
   "outputs": [],
   "source": [
    "@btime mysum(x);"
   ]
  },
  {
   "cell_type": "markdown",
   "metadata": {},
   "source": [
    "* Not bad: by just adding a simple decorator, we now match the speed of the built-in function!\n",
    "* This is, in fact, expected: the built-in function is implemented in Julia, like most of the standard library.\n",
    "* We can even look at the code:"
   ]
  },
  {
   "cell_type": "code",
   "execution_count": null,
   "metadata": {},
   "outputs": [],
   "source": [
    "@which sum(x)"
   ]
  },
  {
   "cell_type": "markdown",
   "metadata": {
    "slideshow": {
     "slide_type": "slide"
    }
   },
   "source": [
    "## One more thing..."
   ]
  },
  {
   "cell_type": "code",
   "execution_count": null,
   "metadata": {},
   "outputs": [],
   "source": [
    "using LoopVectorization\n",
    "function mysum(x)\n",
    "    s = zero(eltype(x))\n",
    "    @avxt for i in 1:length(x)\n",
    "        s += x[i]\n",
    "    end\n",
    "    s\n",
    "end\n",
    "mysum([1., 2., 3.])"
   ]
  },
  {
   "cell_type": "code",
   "execution_count": null,
   "metadata": {},
   "outputs": [],
   "source": [
    "@btime mysum(x);"
   ]
  },
  {
   "cell_type": "markdown",
   "metadata": {},
   "source": [
    "* Wow :o"
   ]
  },
  {
   "cell_type": "markdown",
   "metadata": {
    "slideshow": {
     "slide_type": "slide"
    }
   },
   "source": [
    "# Refresher on ARCH Models\n",
    "* Daily financial returns data exhibit a number of *stylized facts*:\n",
    "  * Volatility clustering\n",
    "  * Non-Gaussianity, fat tails\n",
    "  * Leverage effects: negative returns increase future volatility\n",
    "* Other types of data (e.g., changes in interest rates) exhibit similar phenomena.\n",
    "* These effects are important in many areas in finance, in particular in risk management.\n",
    "* [G]ARCH ([**G**eneralized] **A**utoregressive **C**onditional **V**olatility) models are the most popular for modelling them."
   ]
  },
  {
   "cell_type": "markdown",
   "metadata": {
    "slideshow": {
     "slide_type": "slide"
    }
   },
   "source": [
    "## Example: volatility clustering in AAPL returns\n",
    "* The `MarketData` package contains several historial datasets. "
   ]
  },
  {
   "cell_type": "code",
   "execution_count": 16,
   "metadata": {
    "slideshow": {
     "slide_type": "-"
    }
   },
   "outputs": [],
   "source": [
    "using MarketData, TimeSeries\n",
    "r = percentchange(yahoo(:AAPL)[:AdjClose]) # returns a TimeArray\n",
    "data = values(r) # an array containing just the plain data\n",
    "\n",
    "#if !isfile(\"returns.svg\") || !isfile(\"kde.svg\")\n",
    "    using Distributions, KernelDensity, StatsPlots\n",
    "    plot(r, title=\"Volatility Clustering\", legend=:none, ylabel=\"\\$r_t\\$\")\n",
    "    savefig(\"returns.svg\")\n",
    "    plot(kde(data), label=\"Kernel Density\", title=\"Fat Tails\")\n",
    "    plot!(fit(Normal, data), label=\"Fitted Normal\")\n",
    "    savefig(\"kde.svg\")\n",
    "#end"
   ]
  },
  {
   "cell_type": "markdown",
   "metadata": {
    "slideshow": {
     "slide_type": "slide"
    }
   },
   "source": [
    "<img src=\"returns.svg\" alt=\"RETURNS\" style=\"display:block; margin-left: auto; margin-right: auto; width: 50%;\">"
   ]
  },
  {
   "cell_type": "markdown",
   "metadata": {
    "slideshow": {
     "slide_type": "slide"
    }
   },
   "source": [
    "<img src=\"kde.svg\" alt=\"Kernel Density\" style=\"display:block; margin-left: auto; margin-right: auto; width: 50%;\">"
   ]
  },
  {
   "cell_type": "markdown",
   "metadata": {
    "slideshow": {
     "slide_type": "slide"
    }
   },
   "source": [
    "\n",
    "\n",
    "## (G)ARCH Models\n",
    "* Basic setup: given a sample of financial returns $\\{r_t\\}_{t\\in\\{1,\\ldots,T\\}}$, decompose $r_t$ as\n",
    "$$\n",
    "r_t=\\mu_t+\\sigma_tz_t, \\quad z_t\\stackrel{i.i.d.}{\\sim}(0,1),\n",
    "$$\n",
    "where $\\mu_t\\equiv\\mathbb{E}[r_t\\mid \\mathcal{F}_{t-1}]$ and $\\sigma_t^2\\equiv \\mathbb{E}[(r_t-\\mu_t)^2\\mid \\mathcal{F}_{t-1}]$.\n",
    "* Assume $\\mu_t=0$ for simplicity. Focus is on the *volatility* $\\sigma_t$. G(ARCH) models make $\\sigma_t$ a function of *past* returns and variances. Examples: "
   ]
  },
  {
   "cell_type": "markdown",
   "metadata": {
    "slideshow": {
     "slide_type": "slide"
    }
   },
   "source": [
    "## Examples\n",
    "* ARCH(q) (Engle, Econometrica 1982):\n",
    "$$\\sigma_t^2=\\omega+\\sum_{i=1}^q \\alpha_ir_{t-i}^2%,\\quad \\omega,\\alpha_i>0,\\quad \\sum_{i=1}^q\\alpha_i<1.\n",
    "$$\n",
    "* GARCH(p, q) (Bollerslev, JoE 1986)\n",
    "$$\\sigma_t^2=\\omega+ \\sum_{i=1}^p\\beta_{i}\\sigma_{t-i}^2 + \\sum_{i=1}^q\\alpha_ir_{t-i}^2%,\\quad \\omega,\\alpha_i,\\beta_i>0,\\quad \\sum_{i=1}^{\\max p,q} \\alpha_i+\\beta_i<1.\n",
    "$$\n",
    "* EGARCH(o, p, q) (Nelson, Econometrica 1991)\n",
    "$$\\log(\\sigma_t^2)=\\omega+\\sum_{i=1}^o\\gamma_{i}z_{t-i}+\\sum_{i=1}^p\\beta_i\\log(\\sigma_{t-i}^2)+\\sum_{i=1}^q \\alpha_i (|z_t|-\\mathbb{E}|z_t|)%, \\quad \\sum_{i=1}^p \\beta_i<0.\n",
    "$$\n",
    " \n",
    "  \n",
    "\n"
   ]
  },
  {
   "cell_type": "markdown",
   "metadata": {
    "slideshow": {
     "slide_type": "slide"
    }
   },
   "source": [
    "## Estimation\n",
    "* G(ARCH) models are usually estimated by maximum likelihood: with $f_z$ denoting the density of $z_t$,\n",
    "$$\\max \\sum_t \\log f(r_t\\mid \\mathcal{F}_{t-1})=\\max \\sum_t \\log f_z(r_t/\\sigma_t)-\\log \\sigma_t.$$\n",
    "* Recursive nature of $\\sigma_t$ means the computation cannot be \"vectorized\" $\\Rightarrow$ loops.\n",
    "* Julia is very well suited for this. Matlab (and the `rugarch` package for Python) have to implement the likelihood in C.\n",
    "\n"
   ]
  },
  {
   "cell_type": "markdown",
   "metadata": {
    "slideshow": {
     "slide_type": "slide"
    }
   },
   "source": [
    "# The `ARCHModels.jl` Package\n",
    "## Installation\n",
    "* `ARCHModels.jl` is a registered julia package. To install it, just do `using Pkg; Pkg.add(\"ARCHModels\")`\n",
    "*  Extensive documentation available at https://s-broda.github.io/ARCHModels.jl/stable/.\n",
    "* `ARCH.jl` is not a registered Julia package yet. To install it in Julia 1.0 or later, do"
   ]
  },
  {
   "cell_type": "markdown",
   "metadata": {
    "slideshow": {
     "slide_type": "slide"
    }
   },
   "source": [
    "## Key Features\n",
    "* Supports simulating, estimating, forecasting, and backtesting ARCH models.\n",
    "* Currently: ARCH, GARCH, TGARCH, and EGARCH models of arbitrary orders, with Gaussian, Student's $t$, and GED errors.\n",
    "* Regression and ARMA models for the mean equation.\n",
    "* CCC and DCC models for multivariate returns.\n",
    "* Entirely written in Julia.\n",
    "* Designed to be easily extensible with new models and distributions (nice thesis project...)\n",
    "* Gradients and Hessians (for both numerical maximization of the likelihood and constructing standard errors) are obtained by [automatic differentiation](http://www.autodiff.org/?module=Introduction) via `ForwardDiff.jl`."
   ]
  },
  {
   "cell_type": "markdown",
   "metadata": {
    "slideshow": {
     "slide_type": "slide"
    }
   },
   "source": [
    "## Usage"
   ]
  },
  {
   "cell_type": "markdown",
   "metadata": {},
   "source": [
    "* The first step in building an ARCH model is usually to test for the presence of volatility clustering.\n",
    "* `ARCHModels.jl` provides [Engle's (Econometrica 1982)](https://doi.org/10.2307/1912773) ARCH-LM test for this.\n",
    "* The null is that $\\gamma_i=0$ in the auxiliary regression\n",
    "$$\n",
    "r_t^2=\\alpha+\\gamma_1 r_{t-1}^2+\\gamma_2 r_{t-2}^2+\\cdots+\\gamma_p r_{t-p}^2+\\epsilon_t.\n",
    "$$"
   ]
  },
  {
   "cell_type": "code",
   "execution_count": 17,
   "metadata": {},
   "outputs": [
    {
     "data": {
      "text/plain": [
       "ARCH LM test for conditional heteroskedasticity\n",
       "-----------------------------------------------\n",
       "Population details:\n",
       "    parameter of interest:   T⋅R² in auxiliary regression\n",
       "    value under h_0:         0\n",
       "    point estimate:          147.398\n",
       "\n",
       "Test summary:\n",
       "    outcome with 95% confidence: reject h_0\n",
       "    p-value:                     <1e-30\n",
       "\n",
       "Details:\n",
       "    sample size:                    10205\n",
       "    number of lags:                 4\n",
       "    LM statistic:                   147.398\n"
      ]
     },
     "execution_count": 17,
     "metadata": {},
     "output_type": "execute_result"
    }
   ],
   "source": [
    "using ARCHModels\n",
    "ARCHLMTest(data, 4) # p=4 lags"
   ]
  },
  {
   "cell_type": "markdown",
   "metadata": {},
   "source": [
    "* Unsurprisingly, the test rejects."
   ]
  },
  {
   "cell_type": "markdown",
   "metadata": {
    "slideshow": {
     "slide_type": "slide"
    }
   },
   "source": [
    "* Fitting a GARCH model is as simple as"
   ]
  },
  {
   "cell_type": "code",
   "execution_count": 18,
   "metadata": {},
   "outputs": [
    {
     "data": {
      "text/plain": [
       "\n",
       "GARCH{1, 1} model with Gaussian errors, T=10205.\n",
       "\n",
       "Mean equation parameters:\n",
       "─────────────────────────────────────────────\n",
       "     Estimate    Std.Error  z value  Pr(>|z|)\n",
       "─────────────────────────────────────────────\n",
       "μ  0.00184929  0.000257205  7.18994    <1e-12\n",
       "─────────────────────────────────────────────\n",
       "\n",
       "Volatility parameters:\n",
       "─────────────────────────────────────────────\n",
       "      Estimate  Std.Error   z value  Pr(>|z|)\n",
       "─────────────────────────────────────────────\n",
       "ω   5.67925e-6  2.9651e-6   1.91537    0.0554\n",
       "β₁  0.929851    0.0136741  68.0008     <1e-99\n",
       "α₁  0.0674646   0.0176432   3.82384    0.0001\n",
       "─────────────────────────────────────────────\n"
      ]
     },
     "execution_count": 18,
     "metadata": {},
     "output_type": "execute_result"
    }
   ],
   "source": [
    "model = fit(GARCH{1, 1}, data)"
   ]
  },
  {
   "cell_type": "markdown",
   "metadata": {
    "slideshow": {
     "slide_type": "slide"
    }
   },
   "source": [
    "* Alternatively, the (multithreaded!) `selectmodel` method does automatic model selection (i.e., chooses $p$ and $q$ by minimizing the AIC/AICC/BICC)."
   ]
  },
  {
   "cell_type": "code",
   "execution_count": 19,
   "metadata": {
    "slideshow": {
     "slide_type": "-"
    }
   },
   "outputs": [
    {
     "data": {
      "text/plain": [
       "\n",
       "GARCH{3, 1} model with Gaussian errors, T=10205.\n",
       "\n",
       "Mean equation parameters:\n",
       "─────────────────────────────────────────────\n",
       "     Estimate    Std.Error  z value  Pr(>|z|)\n",
       "─────────────────────────────────────────────\n",
       "μ  0.00201148  0.000241287  8.33647    <1e-16\n",
       "─────────────────────────────────────────────\n",
       "\n",
       "Volatility parameters:\n",
       "──────────────────────────────────────────────────\n",
       "       Estimate   Std.Error      z value  Pr(>|z|)\n",
       "──────────────────────────────────────────────────\n",
       "ω   1.34075e-5   1.42247e-6  9.42551        <1e-20\n",
       "β₁  0.520858     0.088458    5.88819        <1e-08\n",
       "β₂  1.36846e-48  3.42138e-7  3.99972e-42    1.0000\n",
       "β₃  0.358345     0.0886664   4.0415         <1e-04\n",
       "α₁  0.101772     0.0134813   7.54909        <1e-13\n",
       "──────────────────────────────────────────────────\n"
      ]
     },
     "execution_count": 19,
     "metadata": {},
     "output_type": "execute_result"
    }
   ],
   "source": [
    "model2 = selectmodel(GARCH, data; maxlags=3, criterion=bic) # optional keyword arguments"
   ]
  },
  {
   "cell_type": "markdown",
   "metadata": {
    "slideshow": {
     "slide_type": "slide"
    }
   },
   "source": [
    "* The return value is of type `ARCHModel`:"
   ]
  },
  {
   "cell_type": "code",
   "execution_count": 20,
   "metadata": {},
   "outputs": [
    {
     "data": {
      "text/plain": [
       "UnivariateARCHModel{Float64, GARCH{1, 1, Float64}, StdNormal{Float64}, Intercept{Float64}}"
      ]
     },
     "execution_count": 20,
     "metadata": {},
     "output_type": "execute_result"
    }
   ],
   "source": [
    "typeof(model)"
   ]
  },
  {
   "cell_type": "markdown",
   "metadata": {},
   "source": [
    "* `UnivariateARCHModel` supports many useful methods, such as \n",
    " `confint`, `aic`, `bic`, `aicc`, `informationmatrix`, `score`, `vcov`:\n"
   ]
  },
  {
   "cell_type": "code",
   "execution_count": 22,
   "metadata": {},
   "outputs": [
    {
     "data": {
      "text/plain": [
       "-45895.13689151763"
      ]
     },
     "execution_count": 22,
     "metadata": {},
     "output_type": "execute_result"
    }
   ],
   "source": [
    "aic(model)"
   ]
  },
  {
   "cell_type": "markdown",
   "metadata": {
    "slideshow": {
     "slide_type": "-"
    }
   },
   "source": [
    "* A `UnivariateARCHModel` essentially consists of a volatility specification (of type `VolatilitySpec`),\n",
    "an error distribution (of type `StandardizedDistribution`), and a mean specification (of type `MeanSpec`).\n",
    "* The following are currently implemented:"
   ]
  },
  {
   "cell_type": "code",
   "execution_count": 26,
   "metadata": {},
   "outputs": [
    {
     "name": "stdout",
     "output_type": "stream",
     "text": [
      "EGARCH TGARCH "
     ]
    }
   ],
   "source": [
    "print.(string.(subtypes(UnivariateVolatilitySpec)) .* \" \");"
   ]
  },
  {
   "cell_type": "code",
   "execution_count": 24,
   "metadata": {},
   "outputs": [
    {
     "name": "stdout",
     "output_type": "stream",
     "text": [
      "StdGED StdNormal StdSkewT StdT "
     ]
    }
   ],
   "source": [
    "print.(string.(subtypes(StandardizedDistribution))[2:end] .* \" \");"
   ]
  },
  {
   "cell_type": "code",
   "execution_count": 25,
   "metadata": {},
   "outputs": [
    {
     "name": "stdout",
     "output_type": "stream",
     "text": [
      "ARMA Intercept NoIntercept Regression "
     ]
    }
   ],
   "source": [
    "print.(string.(subtypes(MeanSpec)).* \" \");"
   ]
  },
  {
   "cell_type": "markdown",
   "metadata": {
    "slideshow": {
     "slide_type": "slide"
    }
   },
   "source": [
    "* We can use these to construct an ARCHModel manually:"
   ]
  },
  {
   "cell_type": "code",
   "execution_count": 29,
   "metadata": {},
   "outputs": [
    {
     "data": {
      "text/plain": [
       "\n",
       "EGARCH{1, 1, 1} model with Student's t errors, T=10000.\n",
       "\n",
       "\n",
       "─────────────────────────────────────────────────\n",
       "                              ω    γ₁    β₁    α₁\n",
       "─────────────────────────────────────────────────\n",
       "Volatility parameters:     0.02  0.09  0.83  0.01\n",
       "─────────────────────────────────────────────────\n",
       "──────────────────────────────\n",
       "                             ν\n",
       "──────────────────────────────\n",
       "Distribution parameters:   4.0\n",
       "──────────────────────────────\n"
      ]
     },
     "execution_count": 29,
     "metadata": {},
     "output_type": "execute_result"
    }
   ],
   "source": [
    "T = 10^4\n",
    "mydata = zeros(T)\n",
    "volaspec = EGARCH{1, 1, 1}([0.02, .09, .83, .01])\n",
    "using Random; Random.seed!(1)\n",
    "mymodel = UnivariateARCHModel(volaspec, mydata; dist=StdT(4.)) # dist is an optional keyword argument"
   ]
  },
  {
   "cell_type": "markdown",
   "metadata": {
    "slideshow": {
     "slide_type": "slide"
    }
   },
   "source": [
    "* With a `UnivariateARCHModel` in hand, we can do things like"
   ]
  },
  {
   "cell_type": "code",
   "execution_count": 30,
   "metadata": {},
   "outputs": [
    {
     "data": {
      "text/plain": [
       "\n",
       "EGARCH{1, 1, 1} model with Student's t errors, T=10000.\n",
       "\n",
       "\n",
       "─────────────────────────────────────────────────\n",
       "                              ω    γ₁    β₁    α₁\n",
       "─────────────────────────────────────────────────\n",
       "Volatility parameters:     0.02  0.09  0.83  0.01\n",
       "─────────────────────────────────────────────────\n",
       "──────────────────────────────\n",
       "                             ν\n",
       "──────────────────────────────\n",
       "Distribution parameters:   4.0\n",
       "──────────────────────────────\n"
      ]
     },
     "execution_count": 30,
     "metadata": {},
     "output_type": "execute_result"
    }
   ],
   "source": [
    "simulate!(mymodel) # by convention, the bang indicates that the method modifies its argument"
   ]
  },
  {
   "cell_type": "code",
   "execution_count": 31,
   "metadata": {},
   "outputs": [
    {
     "data": {
      "text/plain": [
       "\n",
       "EGARCH{1, 1, 1} model with Student's t errors, T=10000.\n",
       "\n",
       "\n",
       "Volatility parameters:\n",
       "───────────────────────────────────────────────\n",
       "       Estimate   Std.Error   z value  Pr(>|z|)\n",
       "───────────────────────────────────────────────\n",
       "ω    0.0274054   0.00733817   3.73464    0.0002\n",
       "γ₁   0.113959    0.0131327    8.67752    <1e-17\n",
       "β₁   0.811765    0.0244774   33.1638     <1e-99\n",
       "α₁  -0.00637894  0.0153358   -0.41595    0.6774\n",
       "───────────────────────────────────────────────\n",
       "\n",
       "Distribution parameters:\n",
       "─────────────────────────────────────────\n",
       "   Estimate  Std.Error  z value  Pr(>|z|)\n",
       "─────────────────────────────────────────\n",
       "ν   3.83768   0.152659   25.139    <1e-99\n",
       "─────────────────────────────────────────\n"
      ]
     },
     "execution_count": 31,
     "metadata": {},
     "output_type": "execute_result"
    }
   ],
   "source": [
    "fit!(mymodel)"
   ]
  },
  {
   "cell_type": "code",
   "execution_count": 32,
   "metadata": {
    "slideshow": {
     "slide_type": "slide"
    }
   },
   "outputs": [
    {
     "data": {
      "text/plain": [
       "ARCH LM test for conditional heteroskedasticity\n",
       "-----------------------------------------------\n",
       "Population details:\n",
       "    parameter of interest:   T⋅R² in auxiliary regression\n",
       "    value under h_0:         0\n",
       "    point estimate:          0.0873996\n",
       "\n",
       "Test summary:\n",
       "    outcome with 95% confidence: fail to reject h_0\n",
       "    p-value:                     0.7675\n",
       "\n",
       "Details:\n",
       "    sample size:                    10000\n",
       "    number of lags:                 1\n",
       "    LM statistic:                   0.0873996\n"
      ]
     },
     "execution_count": 32,
     "metadata": {},
     "output_type": "execute_result"
    }
   ],
   "source": [
    "ARCHLMTest(mymodel) # tests the standardized residuals"
   ]
  },
  {
   "cell_type": "code",
   "execution_count": 33,
   "metadata": {},
   "outputs": [
    {
     "data": {
      "text/plain": [
       "0.9582988646322497"
      ]
     },
     "execution_count": 33,
     "metadata": {},
     "output_type": "execute_result"
    }
   ],
   "source": [
    "predict(mymodel, :volatility) # (:volatility | :variance | :return | :VaR)"
   ]
  },
  {
   "cell_type": "markdown",
   "metadata": {
    "slideshow": {
     "slide_type": "slide"
    }
   },
   "source": [
    "## Value at Risk"
   ]
  },
  {
   "cell_type": "markdown",
   "metadata": {},
   "source": [
    "* In-sample Value-at-Risk estimates are available via the `VaRs` function"
   ]
  },
  {
   "cell_type": "code",
   "execution_count": 34,
   "metadata": {
    "slideshow": {
     "slide_type": "-"
    }
   },
   "outputs": [],
   "source": [
    "model = fit(GARCH{1, 1}, data)\n",
    "vars = VaRs(model, 0.05)\n",
    "\n",
    "if !isfile(\"VaRplot.svg\")\n",
    "    using Plots\n",
    "    plot(-data, legend=:none, xlabel=\"\\$t\\$\", ylabel=\"\\$-r_t\\$\", title=\"Value at Risk, In-Sample\")\n",
    "    plot!(vars, color=:purple)\n",
    "    savefig(\"VaRplot.svg\"); \n",
    "end"
   ]
  },
  {
   "cell_type": "markdown",
   "metadata": {
    "slideshow": {
     "slide_type": "slide"
    }
   },
   "source": [
    "<img src=\"VaRplot.svg\" alt=\"VALUE AT RISK\" style=\"display:block; margin-left: auto; margin-right: auto; width: 50%;\">"
   ]
  },
  {
   "cell_type": "markdown",
   "metadata": {
    "slideshow": {
     "slide_type": "slide"
    }
   },
   "source": [
    "* How about out-of-sample (backtesting)?\n",
    "* Requires re-estimating the model at each time step.\n",
    "* Not built in, but easy to do:"
   ]
  },
  {
   "cell_type": "code",
   "execution_count": 35,
   "metadata": {
    "slideshow": {
     "slide_type": "-"
    }
   },
   "outputs": [
    {
     "name": "stderr",
     "output_type": "stream",
     "text": [
      "\u001b[32mFitting 9204 GARCH models: 100%|████████████████████████| Time: 0:00:27\u001b[39m\n"
     ]
    }
   ],
   "source": [
    "using ProgressMeter\n",
    "\n",
    "T = length(data)\n",
    "windowsize = 1000\n",
    "vars = similar(data); fill!(vars, NaN)\n",
    "@showprogress \"Fitting $(T-1-windowsize) GARCH models: \" for t = windowsize+1:T-1\n",
    "    m = fit(GARCH{1, 1}, data[t-windowsize:t])\n",
    "    vars[t+1] = predict(m, :VaR; level=0.05)    \n",
    "end\n",
    "\n",
    "if !isfile(\"VaRplot_oos.svg\")\n",
    "    using Plots\n",
    "    plot(-data, legend=:none, xlabel=\"\\$t\\$\", ylabel=\"\\$-r_t\\$\", title=\"Value at Risk, Out-of-Sample\")\n",
    "    plot!(vars, color=:purple)\n",
    "    savefig(\"VaRplot_oos.svg\"); \n",
    "end"
   ]
  },
  {
   "cell_type": "markdown",
   "metadata": {
    "slideshow": {
     "slide_type": "slide"
    }
   },
   "source": [
    "<img src=\"VaRplot_oos.svg\" alt=\"VALUE AT RISK OUT OF SAMPLE\" style=\"display:block; margin-left: auto; margin-right: auto; width: 50%;\">"
   ]
  },
  {
   "cell_type": "markdown",
   "metadata": {
    "slideshow": {
     "slide_type": "slide"
    }
   },
   "source": [
    "* We can backtest these out-of-sample VaR predictions using Engle and Manganelli's (2004) dynamic quantile test.\n",
    "* The test is based on a *hit series* \n",
    "$$I_t\\equiv\\cases{1, r_t<-VaR_t\\\\0, \\mbox{otherwise.}}$$\n",
    "* The null is that $\\alpha=\\beta=\\gamma=0$ in the auxiliary regression\n",
    "$$\n",
    "I_t-0.05 = \\alpha +\\beta I_{t-1} + \\gamma VaR_t+\\epsilon_t.\n",
    "$$"
   ]
  },
  {
   "cell_type": "code",
   "execution_count": 36,
   "metadata": {
    "slideshow": {
     "slide_type": "slide"
    }
   },
   "outputs": [
    {
     "data": {
      "text/plain": [
       "Engle and Manganelli's (2004) DQ test (out of sample)\n",
       "-----------------------------------------------------\n",
       "Population details:\n",
       "    parameter of interest:   Wald statistic in auxiliary regression\n",
       "    value under h_0:         0\n",
       "    point estimate:          35.834\n",
       "\n",
       "Test summary:\n",
       "    outcome with 95% confidence: reject h_0\n",
       "    p-value:                     <1e-07\n",
       "\n",
       "Details:\n",
       "    sample size:                    9205\n",
       "    number of lags:                 1\n",
       "    VaR level:                      0.05\n",
       "    DQ statistic:                   35.834\n"
      ]
     },
     "execution_count": 36,
     "metadata": {},
     "output_type": "execute_result"
    }
   ],
   "source": [
    "DQTest(data[windowsize+1:end], vars[windowsize+1:end], 0.05)"
   ]
  },
  {
   "cell_type": "markdown",
   "metadata": {
    "slideshow": {
     "slide_type": "slide"
    }
   },
   "source": [
    "# Benchmarks\n",
    "  * Bollerslev and Ghysels (JBES 1996) data is de facto standard in comparing implementations of GARCH models.\n",
    "  * Data consist of daily German mark/British pound exchange rates (1974 observations).\n",
    "  * Available in `ARCHModels.jl` as the constant `BG96`."
   ]
  },
  {
   "cell_type": "code",
   "execution_count": 37,
   "metadata": {
    "slideshow": {
     "slide_type": "skip"
    }
   },
   "outputs": [],
   "source": [
    "if !isfile(\"DMGBP.svg\")\n",
    "    using Plots\n",
    "    plot(BG96, legend=:none, title=\"Bollerslev and Ghysels (1996) Data\", ylabel=\"\\$r_t\\$\", xlabel=\"\\$t\\$\")\n",
    "    savefig(\"DMGBP.svg\")\n",
    "end"
   ]
  },
  {
   "cell_type": "markdown",
   "metadata": {
    "slideshow": {
     "slide_type": "slide"
    }
   },
   "source": [
    "<img src=\"DMGBP.svg\" alt=\"Bollerslev and Ghysels (1996) data\" style=\"display:block; margin-left: auto; margin-right: auto; width: 50%;\">"
   ]
  },
  {
   "cell_type": "markdown",
   "metadata": {
    "slideshow": {
     "slide_type": "slide"
    }
   },
   "source": [
    "## GARCH\n",
    "* Fitting in Julia:"
   ]
  },
  {
   "cell_type": "code",
   "execution_count": 39,
   "metadata": {
    "slideshow": {
     "slide_type": "-"
    }
   },
   "outputs": [
    {
     "name": "stdout",
     "output_type": "stream",
     "text": [
      "  3.099 ms (2267 allocations: 168.53 KiB)\n"
     ]
    },
    {
     "data": {
      "text/plain": [
       "\n",
       "GARCH{1, 1} model with Gaussian errors, T=1974.\n",
       "\n",
       "\n",
       "Volatility parameters:\n",
       "─────────────────────────────────────────────\n",
       "     Estimate   Std.Error   z value  Pr(>|z|)\n",
       "─────────────────────────────────────────────\n",
       "ω   0.0108661  0.00657261   1.65324    0.0983\n",
       "β₁  0.804431   0.0730161   11.0172     <1e-27\n",
       "α₁  0.154597   0.0539139    2.86747    0.0041\n",
       "─────────────────────────────────────────────\n"
      ]
     },
     "execution_count": 39,
     "metadata": {},
     "output_type": "execute_result"
    }
   ],
   "source": [
    "using BenchmarkTools\n",
    "@btime fit(GARCH{1, 1}, $BG96, meanspec=NoIntercept)  # Matlab doesn't use an intercept, so let's not, either"
   ]
  },
  {
   "cell_type": "markdown",
   "metadata": {
    "slideshow": {
     "slide_type": "slide"
    }
   },
   "source": [
    "* Now Matlab:"
   ]
  },
  {
   "cell_type": "code",
   "execution_count": 41,
   "metadata": {},
   "outputs": [
    {
     "ename": "LoadError",
     "evalue": "MATLAB.MEngineError(\"failed to open MATLAB engine session\")",
     "output_type": "error",
     "traceback": [
      "MATLAB.MEngineError(\"failed to open MATLAB engine session\")",
      "",
      "Stacktrace:",
      " [1] MSession(bufsize::Int64; flags::String)",
      "   @ MATLAB ~\\.julia\\packages\\MATLAB\\T20Ly\\src\\engine.jl:34",
      " [2] MSession (repeats 2 times)",
      "   @ ~\\.julia\\packages\\MATLAB\\T20Ly\\src\\engine.jl:23 [inlined]",
      " [3] get_default_msession",
      "   @ ~\\.julia\\packages\\MATLAB\\T20Ly\\src\\engine.jl:88 [inlined]",
      " [4] eval_string(stmt::String)",
      "   @ MATLAB ~\\.julia\\packages\\MATLAB\\T20Ly\\src\\engine.jl:147",
      " [5] top-level scope",
      "   @ ~\\.julia\\packages\\MATLAB\\T20Ly\\src\\matstr.jl:161",
      " [6] eval",
      "   @ .\\boot.jl:360 [inlined]",
      " [7] include_string(mapexpr::typeof(REPL.softscope), mod::Module, code::String, filename::String)",
      "   @ Base .\\loading.jl:1094"
     ]
    }
   ],
   "source": [
    "using MATLAB\n",
    "mat\"version\""
   ]
  },
  {
   "cell_type": "code",
   "execution_count": null,
   "metadata": {},
   "outputs": [],
   "source": [
    "# run this cell a few times to give Matlab a fair chance\n",
    "mat\"tic; estimate(garch(1, 1), $BG96); toc; 0\";"
   ]
  },
  {
   "cell_type": "markdown",
   "metadata": {
    "slideshow": {
     "slide_type": "-"
    }
   },
   "source": [
    "* ARCH.jl is faster by a factor of about 20-30, depending on the machine, despite Matlab calling into compiled C code.\n",
    "* Estimates are quite similar, but standard errors and $t$-statistics differ.\n",
    "* So which standard errors are correct? Let's compare with the results from Brooks et. al. (Int. J. Fcst. 2001)."
   ]
  },
  {
   "cell_type": "markdown",
   "metadata": {
    "slideshow": {
     "slide_type": "slide"
    }
   },
   "source": [
    "* Brooks et. al. compare implementations of the GARCH(1, 1) model. They use a model with intercept, so let’s re-estimate in Julia (Matlab doesn't seem to allow this):"
   ]
  },
  {
   "cell_type": "code",
   "execution_count": null,
   "metadata": {
    "slideshow": {
     "slide_type": "-"
    }
   },
   "outputs": [],
   "source": [
    "fit(GARCH{1, 1}, BG96)"
   ]
  },
  {
   "cell_type": "markdown",
   "metadata": {},
   "source": [
    "* Brooks et. al. give the estimates (**$t$-stats**)\n",
    "$\\mu=−0.00619$ $(\\mathbf{−0.67})$, $\\omega=0.0108$ $(\\mathbf{1.66})$, $\\beta_1=0.806$ $(\\mathbf{11.11})$, $\\alpha_1=0.153$ $(\\mathbf{2.86})$. Dead on!"
   ]
  },
  {
   "cell_type": "markdown",
   "metadata": {
    "slideshow": {
     "slide_type": "slide"
    }
   },
   "source": [
    "## EGARCH\n",
    "* Julia:"
   ]
  },
  {
   "cell_type": "code",
   "execution_count": null,
   "metadata": {},
   "outputs": [],
   "source": [
    "@btime fit(EGARCH{1, 1, 1}, $BG96, meanspec=NoIntercept)"
   ]
  },
  {
   "cell_type": "markdown",
   "metadata": {
    "slideshow": {
     "slide_type": "slide"
    }
   },
   "source": [
    "* Matlab:"
   ]
  },
  {
   "cell_type": "code",
   "execution_count": null,
   "metadata": {},
   "outputs": [],
   "source": [
    "mat\"tic; estimate(egarch(1, 1), $BG96); toc; 0\";  # Matlab sets o=q"
   ]
  },
  {
   "cell_type": "markdown",
   "metadata": {},
   "source": [
    "* Brooks et. al. give no benchmark results. But again, Julia is faster by a factor of about 20."
   ]
  },
  {
   "cell_type": "markdown",
   "metadata": {
    "slideshow": {
     "slide_type": "slide"
    }
   },
   "source": [
    "#  TODO\n",
    "* More distributions (NIG, $\\alpha$-Stable, ...)\n",
    "* More GARCH models (APARCH, RiskMetrics, IGARCH, ...)\n",
    "* Multivariate GARCH\n"
   ]
  },
  {
   "cell_type": "markdown",
   "metadata": {
    "slideshow": {
     "slide_type": "slide"
    }
   },
   "source": [
    "# References\n",
    "* Bollerslev, T (1986). Generalized autoregressive conditional heteroskedasticity. *Journal of Econometrics* **31**, 307–327.\n",
    "* Bollerslev, T. & Ghysels, E. (1996). Periodic Autoregressive Conditional Heteroscedasticity. *Journal of Business & Economic Statistics* **14**, 139-151. https://doi.org/10.1080/07350015.1996.10524640.\n",
    "* Brooks, C., Burke, S. P., & Persand, G. (2001). Benchmarks and the accuracy of GARCH model estimation. *International Journal of Forecasting* **17**, 45-56. https://doi.org/10.1016/S0169-2070(00)00070-4.\n",
    "* Engle, R. F. (1982). Autoregressive Conditional Heteroscedasticity with Estimates of the Variance of United Kingdom Inflation. *Econometrica* **50**, 987-1007. https://doi.org/10.2307/1912773.\n",
    "* Engle, R. F., and Manganelli, S. (2004). CAViaR: Conditional Autoregressive Value at Risk by Regression Quantiles. *Journal of Business & Economic Statistics* **22**, 367-381. https://doi.org/10.1198/073500104000000370\n",
    "* Nelson, D.B. (1991). Conditional Heteroskedasticity in Asset Returns: A New Approach. *Econometrica* **59**, 347--370. https://doi.org/10.2307/2938260.\n",
    "\n"
   ]
  }
 ],
 "metadata": {
  "celltoolbar": "Slideshow",
  "kernelspec": {
   "display_name": "Julia 1.6.0",
   "language": "julia",
   "name": "julia-1.6"
  },
  "language_info": {
   "file_extension": ".jl",
   "mimetype": "application/julia",
   "name": "julia",
   "version": "1.6.0"
  },
  "livereveal": {
   "auto_select": "code",
   "auto_select_fragment": true,
   "start_slideshow_at": "selected"
  }
 },
 "nbformat": 4,
 "nbformat_minor": 2
}
