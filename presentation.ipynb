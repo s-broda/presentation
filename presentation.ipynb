{
 "cells": [
  {
   "cell_type": "code",
   "execution_count": 1,
   "metadata": {
    "slideshow": {
     "slide_type": "skip"
    }
   },
   "outputs": [
    {
     "name": "stderr",
     "output_type": "stream",
     "text": [
      "\u001b[32m\u001b[1m  Activating\u001b[22m\u001b[39m new environment at `C:\\Users\\sabro\\Documents\\julia\\notebooks\\presentation\\presentation_ebs\\Project.toml`\n",
      "\u001b[32m\u001b[1m    Updating\u001b[22m\u001b[39m registry at `C:\\Users\\sabro\\.julia\\registries\\General`\n",
      "\u001b[32m\u001b[1m    Updating\u001b[22m\u001b[39m git-repo `https://github.com/JuliaRegistries/General.git`\n",
      "\u001b[32m\u001b[1m   Resolving\u001b[22m\u001b[39m package versions...\n",
      "\u001b[32m\u001b[1m   Installed\u001b[22m\u001b[39m LoopVectorization ─ v0.12.32\n",
      "\u001b[32m\u001b[1m    Updating\u001b[22m\u001b[39m `C:\\Users\\sabro\\Documents\\julia\\notebooks\\presentation\\presentation_ebs\\Project.toml`\n",
      " \u001b[90m [6d3278bc] \u001b[39m\u001b[92m+ ARCHModels v1.4.1\u001b[39m\n",
      " \u001b[90m [6e4b80f9] \u001b[39m\u001b[92m+ BenchmarkTools v1.0.0\u001b[39m\n",
      " \u001b[90m [31c24e10] \u001b[39m\u001b[92m+ Distributions v0.24.18\u001b[39m\n",
      " \u001b[90m [5ab0869b] \u001b[39m\u001b[92m+ KernelDensity v0.6.3\u001b[39m\n",
      " \u001b[90m [bdcacae8] \u001b[39m\u001b[92m+ LoopVectorization v0.12.32\u001b[39m\n",
      " \u001b[90m [10e44e05] \u001b[39m\u001b[92m+ MATLAB v0.8.2\u001b[39m\n",
      " \u001b[90m [945b72a4] \u001b[39m\u001b[92m+ MarketData v0.13.6\u001b[39m\n",
      " \u001b[90m [92933f4c] \u001b[39m\u001b[92m+ ProgressMeter v1.7.1\u001b[39m\n",
      " \u001b[90m [f3b207a7] \u001b[39m\u001b[92m+ StatsPlots v0.14.21\u001b[39m\n",
      " \u001b[90m [9e3dc215] \u001b[39m\u001b[92m+ TimeSeries v0.22.1\u001b[39m\n",
      "\u001b[32m\u001b[1m    Updating\u001b[22m\u001b[39m `C:\\Users\\sabro\\Documents\\julia\\notebooks\\presentation\\presentation_ebs\\Manifest.toml`\n",
      " \u001b[90m [6d3278bc] \u001b[39m\u001b[92m+ ARCHModels v1.4.1\u001b[39m\n",
      " \u001b[90m [621f4979] \u001b[39m\u001b[92m+ AbstractFFTs v1.0.1\u001b[39m\n",
      " \u001b[90m [79e6a3ab] \u001b[39m\u001b[92m+ Adapt v3.3.1\u001b[39m\n",
      " \u001b[90m [7d9fca2a] \u001b[39m\u001b[92m+ Arpack v0.4.0\u001b[39m\n",
      " \u001b[90m [4fba245c] \u001b[39m\u001b[92m+ ArrayInterface v3.1.17\u001b[39m\n",
      " \u001b[90m [13072b0f] \u001b[39m\u001b[92m+ AxisAlgorithms v1.0.0\u001b[39m\n",
      " \u001b[90m [6e4b80f9] \u001b[39m\u001b[92m+ BenchmarkTools v1.0.0\u001b[39m\n",
      " \u001b[90m [336ed68f] \u001b[39m\u001b[92m+ CSV v0.8.5\u001b[39m\n",
      " \u001b[90m [324d7699] \u001b[39m\u001b[92m+ CategoricalArrays v0.9.7\u001b[39m\n",
      " \u001b[90m [d360d2e6] \u001b[39m\u001b[92m+ ChainRulesCore v0.10.1\u001b[39m\n",
      " \u001b[90m [aaaa29a8] \u001b[39m\u001b[92m+ Clustering v0.14.2\u001b[39m\n",
      " \u001b[90m [35d6a980] \u001b[39m\u001b[92m+ ColorSchemes v3.12.1\u001b[39m\n",
      " \u001b[90m [3da002f7] \u001b[39m\u001b[92m+ ColorTypes v0.11.0\u001b[39m\n",
      " \u001b[90m [5ae59095] \u001b[39m\u001b[92m+ Colors v0.12.8\u001b[39m\n",
      " \u001b[90m [861a8166] \u001b[39m\u001b[92m+ Combinatorics v1.0.2\u001b[39m\n",
      " \u001b[90m [38540f10] \u001b[39m\u001b[92m+ CommonSolve v0.2.0\u001b[39m\n",
      " \u001b[90m [bbf7d656] \u001b[39m\u001b[92m+ CommonSubexpressions v0.3.0\u001b[39m\n",
      " \u001b[90m [34da2185] \u001b[39m\u001b[92m+ Compat v3.30.0\u001b[39m\n",
      " \u001b[90m [d38c429a] \u001b[39m\u001b[92m+ Contour v0.5.7\u001b[39m\n",
      " \u001b[90m [a8cc5b0e] \u001b[39m\u001b[92m+ Crayons v4.0.4\u001b[39m\n",
      " \u001b[90m [9a962f9c] \u001b[39m\u001b[92m+ DataAPI v1.6.0\u001b[39m\n",
      " \u001b[90m [a93c6f00] \u001b[39m\u001b[92m+ DataFrames v0.22.7\u001b[39m\n",
      " \u001b[90m [864edb3b] \u001b[39m\u001b[92m+ DataStructures v0.18.9\u001b[39m\n",
      " \u001b[90m [e2d170a0] \u001b[39m\u001b[92m+ DataValueInterfaces v1.0.0\u001b[39m\n",
      " \u001b[90m [e7dc6d0d] \u001b[39m\u001b[92m+ DataValues v0.4.13\u001b[39m\n",
      " \u001b[90m [163ba53b] \u001b[39m\u001b[92m+ DiffResults v1.0.3\u001b[39m\n",
      " \u001b[90m [b552c78f] \u001b[39m\u001b[92m+ DiffRules v1.0.2\u001b[39m\n",
      " \u001b[90m [b4f34e82] \u001b[39m\u001b[92m+ Distances v0.10.3\u001b[39m\n",
      " \u001b[90m [31c24e10] \u001b[39m\u001b[92m+ Distributions v0.24.18\u001b[39m\n",
      " \u001b[90m [ffbed154] \u001b[39m\u001b[92m+ DocStringExtensions v0.8.4\u001b[39m\n",
      " \u001b[90m [c87230d0] \u001b[39m\u001b[92m+ FFMPEG v0.4.1\u001b[39m\n",
      " \u001b[90m [7a1cc6ca] \u001b[39m\u001b[92m+ FFTW v1.4.1\u001b[39m\n",
      " \u001b[90m [1a297f60] \u001b[39m\u001b[92m+ FillArrays v0.11.7\u001b[39m\n",
      " \u001b[90m [6a86dc24] \u001b[39m\u001b[92m+ FiniteDiff v2.8.0\u001b[39m\n",
      " \u001b[90m [53c48c17] \u001b[39m\u001b[92m+ FixedPointNumbers v0.8.4\u001b[39m\n",
      " \u001b[90m [59287772] \u001b[39m\u001b[92m+ Formatting v0.4.2\u001b[39m\n",
      " \u001b[90m [f6369f11] \u001b[39m\u001b[92m+ ForwardDiff v0.10.18\u001b[39m\n",
      " \u001b[90m [38e38edf] \u001b[39m\u001b[92m+ GLM v1.4.2\u001b[39m\n",
      " \u001b[90m [28b8d3ca] \u001b[39m\u001b[92m+ GR v0.52.0\u001b[39m\n",
      " \u001b[90m [5c1252a2] \u001b[39m\u001b[92m+ GeometryBasics v0.3.12\u001b[39m\n",
      " \u001b[90m [42e2da0e] \u001b[39m\u001b[92m+ Grisu v1.0.2\u001b[39m\n",
      " \u001b[90m [cd3eb016] \u001b[39m\u001b[92m+ HTTP v0.8.19\u001b[39m\n",
      " \u001b[90m [0e44f5e4] \u001b[39m\u001b[92m+ Hwloc v2.0.0\u001b[39m\n",
      " \u001b[90m [09f84164] \u001b[39m\u001b[92m+ HypothesisTests v0.10.4\u001b[39m\n",
      " \u001b[90m [615f187c] \u001b[39m\u001b[92m+ IfElse v0.1.0\u001b[39m\n",
      " \u001b[90m [83e8ac13] \u001b[39m\u001b[92m+ IniFile v0.5.0\u001b[39m\n",
      " \u001b[90m [a98d9a8b] \u001b[39m\u001b[92m+ Interpolations v0.13.2\u001b[39m\n",
      " \u001b[90m [41ab1584] \u001b[39m\u001b[92m+ InvertedIndices v1.0.0\u001b[39m\n",
      " \u001b[90m [c8e1da08] \u001b[39m\u001b[92m+ IterTools v1.3.0\u001b[39m\n",
      " \u001b[90m [82899510] \u001b[39m\u001b[92m+ IteratorInterfaceExtensions v1.0.0\u001b[39m\n",
      " \u001b[90m [692b3bcd] \u001b[39m\u001b[92m+ JLLWrappers v1.3.0\u001b[39m\n",
      " \u001b[90m [682c06a0] \u001b[39m\u001b[92m+ JSON v0.21.1\u001b[39m\n",
      " \u001b[90m [5ab0869b] \u001b[39m\u001b[92m+ KernelDensity v0.6.3\u001b[39m\n",
      " \u001b[90m [b964fa9f] \u001b[39m\u001b[92m+ LaTeXStrings v1.2.1\u001b[39m\n",
      " \u001b[90m [23fbe1c1] \u001b[39m\u001b[92m+ Latexify v0.15.6\u001b[39m\n",
      " \u001b[90m [d3d80556] \u001b[39m\u001b[92m+ LineSearches v7.1.1\u001b[39m\n",
      " \u001b[90m [2ab3a3ac] \u001b[39m\u001b[92m+ LogExpFunctions v0.2.4\u001b[39m\n",
      " \u001b[90m [bdcacae8] \u001b[39m\u001b[92m+ LoopVectorization v0.12.32\u001b[39m\n",
      " \u001b[90m [10e44e05] \u001b[39m\u001b[92m+ MATLAB v0.8.2\u001b[39m\n",
      " \u001b[90m [1914dd2f] \u001b[39m\u001b[92m+ MacroTools v0.5.6\u001b[39m\n",
      " \u001b[90m [945b72a4] \u001b[39m\u001b[92m+ MarketData v0.13.6\u001b[39m\n",
      " \u001b[90m [739be429] \u001b[39m\u001b[92m+ MbedTLS v1.0.3\u001b[39m\n",
      " \u001b[90m [442fdcdd] \u001b[39m\u001b[92m+ Measures v0.3.1\u001b[39m\n",
      " \u001b[90m [e1d29d7a] \u001b[39m\u001b[92m+ Missings v0.4.5\u001b[39m\n",
      " \u001b[90m [6f286f6a] \u001b[39m\u001b[92m+ MultivariateStats v0.8.0\u001b[39m\n",
      " \u001b[90m [d41bc354] \u001b[39m\u001b[92m+ NLSolversBase v7.8.0\u001b[39m\n",
      " \u001b[90m [77ba4419] \u001b[39m\u001b[92m+ NaNMath v0.3.5\u001b[39m\n",
      " \u001b[90m [b8a86587] \u001b[39m\u001b[92m+ NearestNeighbors v0.4.8\u001b[39m\n",
      " \u001b[90m [510215fc] \u001b[39m\u001b[92m+ Observables v0.4.0\u001b[39m\n",
      " \u001b[90m [6fe1bfb0] \u001b[39m\u001b[92m+ OffsetArrays v1.9.2\u001b[39m\n",
      " \u001b[90m [429524aa] \u001b[39m\u001b[92m+ Optim v1.3.0\u001b[39m\n",
      " \u001b[90m [bac558e1] \u001b[39m\u001b[92m+ OrderedCollections v1.4.1\u001b[39m\n",
      " \u001b[90m [90014a1f] \u001b[39m\u001b[92m+ PDMats v0.11.0\u001b[39m\n",
      " \u001b[90m [d96e819e] \u001b[39m\u001b[92m+ Parameters v0.12.2\u001b[39m\n",
      " \u001b[90m [69de0a69] \u001b[39m\u001b[92m+ Parsers v1.1.0\u001b[39m\n",
      " \u001b[90m [ccf2f8ad] \u001b[39m\u001b[92m+ PlotThemes v2.0.1\u001b[39m\n",
      " \u001b[90m [995b91a9] \u001b[39m\u001b[92m+ PlotUtils v1.0.10\u001b[39m\n",
      " \u001b[90m [91a5bcdd] \u001b[39m\u001b[92m+ Plots v1.15.2\u001b[39m\n",
      " \u001b[90m [f517fe37] \u001b[39m\u001b[92m+ Polyester v0.3.1\u001b[39m\n",
      " \u001b[90m [2dfb63ee] \u001b[39m\u001b[92m+ PooledArrays v1.2.1\u001b[39m\n",
      " \u001b[90m [85a6dd25] \u001b[39m\u001b[92m+ PositiveFactorizations v0.2.4\u001b[39m\n",
      " \u001b[90m [21216c6a] \u001b[39m\u001b[92m+ Preferences v1.2.2\u001b[39m\n",
      " \u001b[90m [08abe8d2] \u001b[39m\u001b[92m+ PrettyTables v0.11.1\u001b[39m\n",
      " \u001b[90m [92933f4c] \u001b[39m\u001b[92m+ ProgressMeter v1.7.1\u001b[39m\n",
      " \u001b[90m [1fd47b50] \u001b[39m\u001b[92m+ QuadGK v2.4.1\u001b[39m\n",
      " \u001b[90m [c84ed2f1] \u001b[39m\u001b[92m+ Ratios v0.4.0\u001b[39m\n",
      " \u001b[90m [3cdcf5f2] \u001b[39m\u001b[92m+ RecipesBase v1.1.1\u001b[39m\n",
      " \u001b[90m [01d81517] \u001b[39m\u001b[92m+ RecipesPipeline v0.3.2\u001b[39m\n",
      " \u001b[90m [189a3867] \u001b[39m\u001b[92m+ Reexport v1.1.0\u001b[39m\n",
      " \u001b[90m [ae029012] \u001b[39m\u001b[92m+ Requires v1.1.3\u001b[39m\n",
      " \u001b[90m [79098fc4] \u001b[39m\u001b[92m+ Rmath v0.7.0\u001b[39m\n",
      " \u001b[90m [f2b01f46] \u001b[39m\u001b[92m+ Roots v1.0.9\u001b[39m\n",
      " \u001b[90m [476501e8] \u001b[39m\u001b[92m+ SLEEFPirates v0.6.21\u001b[39m\n",
      " \u001b[90m [6c6a2e73] \u001b[39m\u001b[92m+ Scratch v1.0.3\u001b[39m\n",
      " \u001b[90m [91c51154] \u001b[39m\u001b[92m+ SentinelArrays v1.3.2\u001b[39m\n",
      " \u001b[90m [1277b4bf] \u001b[39m\u001b[92m+ ShiftedArrays v1.0.0\u001b[39m\n",
      " \u001b[90m [992d4aef] \u001b[39m\u001b[92m+ Showoff v1.0.3\u001b[39m\n",
      " \u001b[90m [a2af1166] \u001b[39m\u001b[92m+ SortingAlgorithms v0.3.1\u001b[39m\n",
      " \u001b[90m [276daf66] \u001b[39m\u001b[92m+ SpecialFunctions v1.5.1\u001b[39m\n",
      " \u001b[90m [860ef19b] \u001b[39m\u001b[92m+ StableRNGs v1.0.0\u001b[39m\n",
      " \u001b[90m [aedffcd0] \u001b[39m\u001b[92m+ Static v0.2.5\u001b[39m\n",
      " \u001b[90m [90137ffa] \u001b[39m\u001b[92m+ StaticArrays v1.2.2\u001b[39m\n",
      " \u001b[90m [82ae8749] \u001b[39m\u001b[92m+ StatsAPI v1.0.0\u001b[39m\n",
      " \u001b[90m [2913bbd2] \u001b[39m\u001b[92m+ StatsBase v0.33.8\u001b[39m\n",
      " \u001b[90m [4c63d2b9] \u001b[39m\u001b[92m+ StatsFuns v0.9.8\u001b[39m\n",
      " \u001b[90m [3eaba693] \u001b[39m\u001b[92m+ StatsModels v0.6.22\u001b[39m\n",
      " \u001b[90m [f3b207a7] \u001b[39m\u001b[92m+ StatsPlots v0.14.21\u001b[39m\n",
      " \u001b[90m [7792a7ef] \u001b[39m\u001b[92m+ StrideArraysCore v0.1.13\u001b[39m\n",
      " \u001b[90m [09ab397b] \u001b[39m\u001b[92m+ StructArrays v0.5.1\u001b[39m\n",
      " \u001b[90m [856f2bd8] \u001b[39m\u001b[92m+ StructTypes v1.7.2\u001b[39m\n",
      " \u001b[90m [ab02a1b2] \u001b[39m\u001b[92m+ TableOperations v1.0.0\u001b[39m\n",
      " \u001b[90m [3783bdb8] \u001b[39m\u001b[92m+ TableTraits v1.0.1\u001b[39m\n",
      " \u001b[90m [bd369af6] \u001b[39m\u001b[92m+ Tables v1.4.3\u001b[39m\n",
      " \u001b[90m [8290d209] \u001b[39m\u001b[92m+ ThreadingUtilities v0.4.4\u001b[39m\n",
      " \u001b[90m [9e3dc215] \u001b[39m\u001b[92m+ TimeSeries v0.22.1\u001b[39m\n",
      " \u001b[90m [3a884ed6] \u001b[39m\u001b[92m+ UnPack v1.0.2\u001b[39m\n",
      " \u001b[90m [3d5dd08c] \u001b[39m\u001b[92m+ VectorizationBase v0.20.15\u001b[39m\n",
      " \u001b[90m [cc8bc4a8] \u001b[39m\u001b[92m+ Widgets v0.6.3\u001b[39m\n",
      " \u001b[90m [efce3f68] \u001b[39m\u001b[92m+ WoodburyMatrices v0.5.3\u001b[39m\n",
      " \u001b[90m [68821587] \u001b[39m\u001b[92m+ Arpack_jll v3.5.0+3\u001b[39m\n",
      " \u001b[90m [6e34b625] \u001b[39m\u001b[92m+ Bzip2_jll v1.0.8+0\u001b[39m\n",
      " \u001b[90m [83423d85] \u001b[39m\u001b[92m+ Cairo_jll v1.16.1+0\u001b[39m\n",
      " \u001b[90m [5ae413db] \u001b[39m\u001b[92m+ EarCut_jll v2.1.5+1\u001b[39m\n",
      " \u001b[90m [2e619515] \u001b[39m\u001b[92m+ Expat_jll v2.2.10+0\u001b[39m\n",
      " \u001b[90m [b22a6f82] \u001b[39m\u001b[92m+ FFMPEG_jll v4.4.0+0\u001b[39m\n",
      " \u001b[90m [f5851436] \u001b[39m\u001b[92m+ FFTW_jll v3.3.9+7\u001b[39m\n",
      " \u001b[90m [a3f928ae] \u001b[39m\u001b[92m+ Fontconfig_jll v2.13.93+0\u001b[39m\n",
      " \u001b[90m [d7e528f0] \u001b[39m\u001b[92m+ FreeType2_jll v2.10.4+0\u001b[39m\n",
      " \u001b[90m [559328eb] \u001b[39m\u001b[92m+ FriBidi_jll v1.0.10+0\u001b[39m\n"
     ]
    },
    {
     "name": "stderr",
     "output_type": "stream",
     "text": [
      " \u001b[90m [78b55507] \u001b[39m\u001b[92m+ Gettext_jll v0.21.0+0\u001b[39m\n",
      " \u001b[90m [7746bdde] \u001b[39m\u001b[92m+ Glib_jll v2.68.1+0\u001b[39m\n",
      " \u001b[90m [3b182d85] \u001b[39m\u001b[92m+ Graphite2_jll v1.3.14+0\u001b[39m\n",
      " \u001b[90m [2e76f6c2] \u001b[39m\u001b[92m+ HarfBuzz_jll v2.8.1+0\u001b[39m\n",
      " \u001b[90m [e33a78d0] \u001b[39m\u001b[92m+ Hwloc_jll v2.4.1+0\u001b[39m\n",
      " \u001b[90m [1d5cc7b8] \u001b[39m\u001b[92m+ IntelOpenMP_jll v2018.0.3+2\u001b[39m\n",
      " \u001b[90m [c1c5ebd0] \u001b[39m\u001b[92m+ LAME_jll v3.100.1+0\u001b[39m\n",
      " \u001b[90m [dd4b983a] \u001b[39m\u001b[92m+ LZO_jll v2.10.1+0\u001b[39m\n",
      " \u001b[90m [e9f186c6] \u001b[39m\u001b[92m+ Libffi_jll v3.2.2+0\u001b[39m\n",
      " \u001b[90m [d4300ac3] \u001b[39m\u001b[92m+ Libgcrypt_jll v1.8.7+0\u001b[39m\n",
      " \u001b[90m [7add5ba3] \u001b[39m\u001b[92m+ Libgpg_error_jll v1.42.0+0\u001b[39m\n",
      " \u001b[90m [94ce4f54] \u001b[39m\u001b[92m+ Libiconv_jll v1.16.1+0\u001b[39m\n",
      " \u001b[90m [4b2f31a3] \u001b[39m\u001b[92m+ Libmount_jll v2.35.0+0\u001b[39m\n",
      " \u001b[90m [38a345b3] \u001b[39m\u001b[92m+ Libuuid_jll v2.36.0+0\u001b[39m\n",
      " \u001b[90m [856f044c] \u001b[39m\u001b[92m+ MKL_jll v2021.1.1+1\u001b[39m\n",
      " \u001b[90m [e7412a2a] \u001b[39m\u001b[92m+ Ogg_jll v1.3.5+0\u001b[39m\n",
      " \u001b[90m [458c3c95] \u001b[39m\u001b[92m+ OpenSSL_jll v1.1.10+0\u001b[39m\n",
      " \u001b[90m [efe28fd5] \u001b[39m\u001b[92m+ OpenSpecFun_jll v0.5.5+0\u001b[39m\n",
      " \u001b[90m [91d4177d] \u001b[39m\u001b[92m+ Opus_jll v1.3.2+0\u001b[39m\n",
      " \u001b[90m [2f80f16e] \u001b[39m\u001b[92m+ PCRE_jll v8.44.0+0\u001b[39m\n",
      " \u001b[90m [30392449] \u001b[39m\u001b[92m+ Pixman_jll v0.40.1+0\u001b[39m\n",
      " \u001b[90m [f50d1b31] \u001b[39m\u001b[92m+ Rmath_jll v0.3.0+0\u001b[39m\n",
      " \u001b[90m [02c8fc9c] \u001b[39m\u001b[92m+ XML2_jll v2.9.12+0\u001b[39m\n",
      " \u001b[90m [aed1982a] \u001b[39m\u001b[92m+ XSLT_jll v1.1.34+0\u001b[39m\n",
      " \u001b[90m [4f6342f7] \u001b[39m\u001b[92m+ Xorg_libX11_jll v1.6.9+4\u001b[39m\n",
      " \u001b[90m [0c0b7dd1] \u001b[39m\u001b[92m+ Xorg_libXau_jll v1.0.9+4\u001b[39m\n",
      " \u001b[90m [a3789734] \u001b[39m\u001b[92m+ Xorg_libXdmcp_jll v1.1.3+4\u001b[39m\n",
      " \u001b[90m [1082639a] \u001b[39m\u001b[92m+ Xorg_libXext_jll v1.3.4+4\u001b[39m\n",
      " \u001b[90m [ea2f1a96] \u001b[39m\u001b[92m+ Xorg_libXrender_jll v0.9.10+4\u001b[39m\n",
      " \u001b[90m [14d82f49] \u001b[39m\u001b[92m+ Xorg_libpthread_stubs_jll v0.1.0+3\u001b[39m\n",
      " \u001b[90m [c7cfdc94] \u001b[39m\u001b[92m+ Xorg_libxcb_jll v1.13.0+3\u001b[39m\n",
      " \u001b[90m [c5fb5394] \u001b[39m\u001b[92m+ Xorg_xtrans_jll v1.4.0+3\u001b[39m\n",
      " \u001b[90m [0ac62f75] \u001b[39m\u001b[92m+ libass_jll v0.15.1+0\u001b[39m\n",
      " \u001b[90m [f638f0a6] \u001b[39m\u001b[92m+ libfdk_aac_jll v2.0.2+0\u001b[39m\n",
      " \u001b[90m [b53b4c65] \u001b[39m\u001b[92m+ libpng_jll v1.6.38+0\u001b[39m\n",
      " \u001b[90m [f27f6e37] \u001b[39m\u001b[92m+ libvorbis_jll v1.3.7+0\u001b[39m\n",
      " \u001b[90m [1270edf5] \u001b[39m\u001b[92m+ x264_jll v2021.5.5+0\u001b[39m\n",
      " \u001b[90m [dfaa095f] \u001b[39m\u001b[92m+ x265_jll v3.5.0+0\u001b[39m\n",
      " \u001b[90m [0dad84c5] \u001b[39m\u001b[92m+ ArgTools\u001b[39m\n",
      " \u001b[90m [56f22d72] \u001b[39m\u001b[92m+ Artifacts\u001b[39m\n",
      " \u001b[90m [2a0f44e3] \u001b[39m\u001b[92m+ Base64\u001b[39m\n",
      " \u001b[90m [ade2ca70] \u001b[39m\u001b[92m+ Dates\u001b[39m\n",
      " \u001b[90m [8bb1440f] \u001b[39m\u001b[92m+ DelimitedFiles\u001b[39m\n",
      " \u001b[90m [8ba89e20] \u001b[39m\u001b[92m+ Distributed\u001b[39m\n",
      " \u001b[90m [f43a241f] \u001b[39m\u001b[92m+ Downloads\u001b[39m\n",
      " \u001b[90m [9fa8497b] \u001b[39m\u001b[92m+ Future\u001b[39m\n",
      " \u001b[90m [b77e0a4c] \u001b[39m\u001b[92m+ InteractiveUtils\u001b[39m\n",
      " \u001b[90m [4af54fe1] \u001b[39m\u001b[92m+ LazyArtifacts\u001b[39m\n",
      " \u001b[90m [b27032c2] \u001b[39m\u001b[92m+ LibCURL\u001b[39m\n",
      " \u001b[90m [76f85450] \u001b[39m\u001b[92m+ LibGit2\u001b[39m\n",
      " \u001b[90m [8f399da3] \u001b[39m\u001b[92m+ Libdl\u001b[39m\n",
      " \u001b[90m [37e2e46d] \u001b[39m\u001b[92m+ LinearAlgebra\u001b[39m\n",
      " \u001b[90m [56ddb016] \u001b[39m\u001b[92m+ Logging\u001b[39m\n",
      " \u001b[90m [d6f4376e] \u001b[39m\u001b[92m+ Markdown\u001b[39m\n",
      " \u001b[90m [a63ad114] \u001b[39m\u001b[92m+ Mmap\u001b[39m\n",
      " \u001b[90m [ca575930] \u001b[39m\u001b[92m+ NetworkOptions\u001b[39m\n",
      " \u001b[90m [44cfe95a] \u001b[39m\u001b[92m+ Pkg\u001b[39m\n",
      " \u001b[90m [de0858da] \u001b[39m\u001b[92m+ Printf\u001b[39m\n",
      " \u001b[90m [3fa0cd96] \u001b[39m\u001b[92m+ REPL\u001b[39m\n",
      " \u001b[90m [9a3f8284] \u001b[39m\u001b[92m+ Random\u001b[39m\n",
      " \u001b[90m [ea8e919c] \u001b[39m\u001b[92m+ SHA\u001b[39m\n",
      " \u001b[90m [9e88b42a] \u001b[39m\u001b[92m+ Serialization\u001b[39m\n",
      " \u001b[90m [1a1011a3] \u001b[39m\u001b[92m+ SharedArrays\u001b[39m\n",
      " \u001b[90m [6462fe0b] \u001b[39m\u001b[92m+ Sockets\u001b[39m\n",
      " \u001b[90m [2f01184e] \u001b[39m\u001b[92m+ SparseArrays\u001b[39m\n",
      " \u001b[90m [10745b16] \u001b[39m\u001b[92m+ Statistics\u001b[39m\n",
      " \u001b[90m [4607b0f0] \u001b[39m\u001b[92m+ SuiteSparse\u001b[39m\n",
      " \u001b[90m [fa267f1f] \u001b[39m\u001b[92m+ TOML\u001b[39m\n",
      " \u001b[90m [a4e569a6] \u001b[39m\u001b[92m+ Tar\u001b[39m\n",
      " \u001b[90m [8dfed614] \u001b[39m\u001b[92m+ Test\u001b[39m\n",
      " \u001b[90m [cf7118a7] \u001b[39m\u001b[92m+ UUIDs\u001b[39m\n",
      " \u001b[90m [4ec0a83e] \u001b[39m\u001b[92m+ Unicode\u001b[39m\n",
      " \u001b[90m [e66e0078] \u001b[39m\u001b[92m+ CompilerSupportLibraries_jll\u001b[39m\n",
      " \u001b[90m [deac9b47] \u001b[39m\u001b[92m+ LibCURL_jll\u001b[39m\n",
      " \u001b[90m [29816b5a] \u001b[39m\u001b[92m+ LibSSH2_jll\u001b[39m\n",
      " \u001b[90m [c8ffd9c3] \u001b[39m\u001b[92m+ MbedTLS_jll\u001b[39m\n",
      " \u001b[90m [14a3606d] \u001b[39m\u001b[92m+ MozillaCACerts_jll\u001b[39m\n",
      " \u001b[90m [4536629a] \u001b[39m\u001b[92m+ OpenBLAS_jll\u001b[39m\n",
      " \u001b[90m [83775a58] \u001b[39m\u001b[92m+ Zlib_jll\u001b[39m\n",
      " \u001b[90m [8e850ede] \u001b[39m\u001b[92m+ nghttp2_jll\u001b[39m\n",
      " \u001b[90m [3f19e933] \u001b[39m\u001b[92m+ p7zip_jll\u001b[39m\n",
      "\u001b[32m\u001b[1mPrecompiling\u001b[22m\u001b[39m project...\n",
      "\u001b[32m  ✓ \u001b[39mLoopVectorization\n",
      "1 dependency successfully precompiled in 12 seconds (171 already precompiled)\n",
      "\u001b[32m\u001b[1m    Updating\u001b[22m\u001b[39m registry at `C:\\Users\\sabro\\.julia\\registries\\General`\n",
      "\u001b[32m\u001b[1m    Updating\u001b[22m\u001b[39m git-repo `https://github.com/JuliaRegistries/General.git`\n",
      "\u001b[32m\u001b[1m  No Changes\u001b[22m\u001b[39m to `C:\\Users\\sabro\\Documents\\julia\\notebooks\\presentation\\presentation_ebs\\Project.toml`\n",
      "\u001b[32m\u001b[1m  No Changes\u001b[22m\u001b[39m to `C:\\Users\\sabro\\Documents\\julia\\notebooks\\presentation\\presentation_ebs\\Manifest.toml`\n"
     ]
    }
   ],
   "source": [
    "using Pkg\n",
    "Pkg.activate(\"presentation_ebs\")\n",
    "Pkg.add([\"BenchmarkTools\", \"MATLAB\", \"LoopVectorization\",\n",
    "         \"MarketData\", \"TimeSeries\", \"Distributions\",\n",
    "         \"KernelDensity\", \"StatsPlots\", \"ProgressMeter\",\n",
    "         \"ARCHModels\"])\n",
    "Pkg.update()\n"
   ]
  },
  {
   "cell_type": "markdown",
   "metadata": {
    "slideshow": {
     "slide_type": "slide"
    }
   },
   "source": [
    "##### <p style=\"text-align: center; font-size: 300%\"> The Unreasonable Effectiveness of Julia </p>\n",
    "<p style=\"text-align: center; font-size: 200%\"> Simon A. Broda </p>\n",
    "<p style=\"text-align: center; font-size: 100%\"> University of Amsterdam and Hochschule Luzern<br>\n",
    "<a href=\"mailto:simon.broda@uzh.ch\">s.a.broda@uva.nl</a> </p>\n",
    "<img src=\"EULOGO.jpg\" alt=\"LOGO\" style=\"display:block; margin-left: auto; margin-right: auto; width: 20%;\">\n",
    "<p style=\"text-align: center; font-size: 100%\"> This project has received funding from the European Research Council (ERC) under the European Union's Horizon 2020 research and innovation program (grant agreement No. 750559). </p>"
   ]
  },
  {
   "cell_type": "markdown",
   "metadata": {
    "slideshow": {
     "slide_type": "slide"
    }
   },
   "source": [
    "# Outline\n",
    "* The Julia Language\n",
    "* Refresher on ARCH Models\n",
    "* The `ARCHModels.jl` Package\n",
    "   * Usage\n",
    "   * Benchmarks\n",
    "\n",
    "\n",
    "These slides are available at https://github.com/s-broda/presentation"
   ]
  },
  {
   "cell_type": "markdown",
   "metadata": {
    "slideshow": {
     "slide_type": "slide"
    }
   },
   "source": [
    "# The Julia Language\n",
    "## General Information\n",
    "* New programming language started at MIT.\n",
    "* Designed with scientific computing in mind.\n",
    "* Version 1.0 released in August 2018 after 9 years of development.\n",
    "* Free and open source software. Available at https://julialang.org/.\n",
    "* In the words of its creators,\n",
    "> We want a language that’s open source, with a liberal license. We want the speed of C with the dynamism of Ruby. We want a\n",
    "language that’s homoiconic, with true macros like Lisp, but with obvious, familiar mathematical notation like Matlab. We want\n",
    "something as usable for general programming as Python, as easy for statistics as R, as natural for string processing as Perl, as\n",
    "powerful for linear algebra as Matlab, as good at gluing programs together as the shell. Something that is dirt simple to learn,\n",
    "yet keeps the most serious hackers happy. We want it interactive and we want it compiled.\n"
   ]
  },
  {
   "cell_type": "markdown",
   "metadata": {
    "slideshow": {
     "slide_type": "slide"
    }
   },
   "source": [
    "\n",
    "## Highlights for Scientists\n",
    "* Interactive REPL (like Matlab, Python, R, etc.) allows for exploratoty analysis, rapid prototyping.\n",
    "* Unlike these, Julia is JIT compiled, hence fast (typically within a few percent of C)\n",
    "* Syntax superficially similar to Matlab.\n",
    "* Rich type system, multiple dispatch.\n",
    "* Fast-growing eco-system with many state-of-the-art packages (e.g., `ForwardDiff.jl`, `DifferentialEquations.jl`, `JuMP`, ...).\n"
   ]
  },
  {
   "cell_type": "markdown",
   "metadata": {
    "slideshow": {
     "slide_type": "slide"
    }
   },
   "source": [
    "## A Small Taste of Julia"
   ]
  },
  {
   "cell_type": "markdown",
   "metadata": {},
   "source": [
    "* Let's say we want to implement a function that sums an array:"
   ]
  },
  {
   "cell_type": "code",
   "execution_count": 2,
   "metadata": {},
   "outputs": [
    {
     "data": {
      "text/plain": [
       "6.0"
      ]
     },
     "execution_count": 2,
     "metadata": {},
     "output_type": "execute_result"
    }
   ],
   "source": [
    "function mysum(x)\n",
    "    s = zero(eltype(x))\n",
    "    for i in 1:length(x)\n",
    "        s += x[i]\n",
    "    end\n",
    "    s\n",
    "end\n",
    "mysum([1., 2., 3.])"
   ]
  },
  {
   "cell_type": "markdown",
   "metadata": {},
   "source": [
    "* Let's benchmark it:"
   ]
  },
  {
   "cell_type": "code",
   "execution_count": 3,
   "metadata": {},
   "outputs": [],
   "source": [
    "x = randn(10^7);"
   ]
  },
  {
   "cell_type": "code",
   "execution_count": 4,
   "metadata": {},
   "outputs": [
    {
     "name": "stdout",
     "output_type": "stream",
     "text": [
      "  8.372 ms (1 allocation: 16 bytes)\n"
     ]
    }
   ],
   "source": [
    "using BenchmarkTools\n",
    "@btime mysum(x); # @btime runs the code a large number of times"
   ]
  },
  {
   "cell_type": "markdown",
   "metadata": {},
   "source": [
    "* For comparison, the built-in function:"
   ]
  },
  {
   "cell_type": "code",
   "execution_count": 5,
   "metadata": {},
   "outputs": [
    {
     "name": "stdout",
     "output_type": "stream",
     "text": [
      "  2.808 ms (1 allocation: 16 bytes)\n"
     ]
    }
   ],
   "source": [
    "@btime sum(x);"
   ]
  },
  {
   "cell_type": "markdown",
   "metadata": {
    "slideshow": {
     "slide_type": "slide"
    }
   },
   "source": [
    "* Close, but we are about 3x slower.\n",
    "* But we can do better! 2nd attempt:"
   ]
  },
  {
   "cell_type": "code",
   "execution_count": 6,
   "metadata": {},
   "outputs": [
    {
     "data": {
      "text/plain": [
       "6.0"
      ]
     },
     "execution_count": 6,
     "metadata": {},
     "output_type": "execute_result"
    }
   ],
   "source": [
    "function mysum(x)\n",
    "    s = zero(eltype(x))\n",
    "    @simd for i in 1:length(x)\n",
    "        s += x[i]\n",
    "    end\n",
    "    s\n",
    "end\n",
    "mysum([1., 2., 3.])"
   ]
  },
  {
   "cell_type": "code",
   "execution_count": 7,
   "metadata": {},
   "outputs": [
    {
     "name": "stdout",
     "output_type": "stream",
     "text": [
      "  2.841 ms (1 allocation: 16 bytes)\n"
     ]
    }
   ],
   "source": [
    "@btime mysum(x);"
   ]
  },
  {
   "cell_type": "markdown",
   "metadata": {},
   "source": [
    "* Not bad: by just adding a simple decorator, we now match the speed of the built-in function!\n",
    "* This is, in fact, expected: the built-in function is implemented in Julia, like most of the standard library.\n",
    "* We can even look at the code:"
   ]
  },
  {
   "cell_type": "code",
   "execution_count": 8,
   "metadata": {},
   "outputs": [
    {
     "data": {
      "text/html": [
       "sum(a::<b>AbstractArray</b>; <i>dims, kw...</i>) in Base at <a href=\"https://github.com/JuliaLang/julia/tree/f9720dc2ebd6cd9e3086365f281e62506444ef37/base/reducedim.jl#L873\" target=\"_blank\">reducedim.jl:873</a>"
      ],
      "text/plain": [
       "sum(a::AbstractArray; dims, kw...) in Base at reducedim.jl:873"
      ]
     },
     "execution_count": 8,
     "metadata": {},
     "output_type": "execute_result"
    }
   ],
   "source": [
    "@which sum(x)"
   ]
  },
  {
   "cell_type": "markdown",
   "metadata": {
    "slideshow": {
     "slide_type": "slide"
    }
   },
   "source": [
    "## One more thing..."
   ]
  },
  {
   "cell_type": "code",
   "execution_count": 9,
   "metadata": {},
   "outputs": [
    {
     "data": {
      "text/plain": [
       "6.0"
      ]
     },
     "execution_count": 9,
     "metadata": {},
     "output_type": "execute_result"
    }
   ],
   "source": [
    "using LoopVectorization\n",
    "function mysum(x)\n",
    "    s = zero(eltype(x))\n",
    "    @avxt for i in 1:length(x)\n",
    "        s += x[i]\n",
    "    end\n",
    "    s\n",
    "end\n",
    "mysum([1., 2., 3.])"
   ]
  },
  {
   "cell_type": "code",
   "execution_count": 10,
   "metadata": {},
   "outputs": [
    {
     "name": "stdout",
     "output_type": "stream",
     "text": [
      "  2.756 ms (1 allocation: 16 bytes)\n"
     ]
    }
   ],
   "source": [
    "@btime mysum(x);"
   ]
  },
  {
   "cell_type": "markdown",
   "metadata": {},
   "source": [
    "* Wow :o"
   ]
  },
  {
   "cell_type": "markdown",
   "metadata": {
    "slideshow": {
     "slide_type": "slide"
    }
   },
   "source": [
    "# Refresher on ARCH Models\n",
    "* Daily financial returns data exhibit a number of *stylized facts*:\n",
    "  * Volatility clustering\n",
    "  * Non-Gaussianity, fat tails\n",
    "  * Leverage effects: negative returns increase future volatility\n",
    "* Other types of data (e.g., changes in interest rates) exhibit similar phenomena.\n",
    "* These effects are important in many areas in finance, in particular in risk management.\n",
    "* [G]ARCH ([**G**eneralized] **A**utoregressive **C**onditional **V**olatility) models are the most popular for modelling them."
   ]
  },
  {
   "cell_type": "markdown",
   "metadata": {
    "slideshow": {
     "slide_type": "slide"
    }
   },
   "source": [
    "## Example: volatility clustering in AAPL returns\n",
    "* The `MarketData` package contains several historial datasets. "
   ]
  },
  {
   "cell_type": "code",
   "execution_count": 11,
   "metadata": {
    "slideshow": {
     "slide_type": "-"
    }
   },
   "outputs": [],
   "source": [
    "using MarketData, TimeSeries\n",
    "r = percentchange(yahoo(:AAPL)[:AdjClose]) # returns a TimeArray\n",
    "data = values(r) # an array containing just the plain data\n",
    "\n",
    "if !isfile(\"returns.svg\") || !isfile(\"kde.svg\")\n",
    "    using Distributions, KernelDensity, StatsPlots\n",
    "    plot(r, title=\"Volatility Clustering\", legend=:none, ylabel=\"\\$r_t\\$\")\n",
    "    savefig(\"returns.svg\")\n",
    "    plot(kde(data), label=\"Kernel Density\", title=\"Fat Tails\")\n",
    "    plot!(fit(Normal, data), label=\"Fitted Normal\")\n",
    "    savefig(\"kde.svg\")\n",
    "end"
   ]
  },
  {
   "cell_type": "markdown",
   "metadata": {
    "slideshow": {
     "slide_type": "slide"
    }
   },
   "source": [
    "<img src=\"returns.svg\" alt=\"RETURNS\" style=\"display:block; margin-left: auto; margin-right: auto; width: 50%;\">"
   ]
  },
  {
   "cell_type": "markdown",
   "metadata": {
    "slideshow": {
     "slide_type": "slide"
    }
   },
   "source": [
    "<img src=\"kde.svg\" alt=\"Kernel Density\" style=\"display:block; margin-left: auto; margin-right: auto; width: 50%;\">"
   ]
  },
  {
   "cell_type": "markdown",
   "metadata": {
    "slideshow": {
     "slide_type": "slide"
    }
   },
   "source": [
    "\n",
    "\n",
    "## (G)ARCH Models\n",
    "* Basic setup: given a sample of financial returns $\\{r_t\\}_{t\\in\\{1,\\ldots,T\\}}$, decompose $r_t$ as\n",
    "$$\n",
    "r_t=\\mu_t+\\sigma_tz_t, \\quad z_t\\stackrel{i.i.d.}{\\sim}(0,1),\n",
    "$$\n",
    "where $\\mu_t\\equiv\\mathbb{E}[r_t\\mid \\mathcal{F}_{t-1}]$ and $\\sigma_t^2\\equiv \\mathbb{E}[(r_t-\\mu_t)^2\\mid \\mathcal{F}_{t-1}]$.\n",
    "* Assume $\\mu_t=0$ for simplicity. Focus is on the *volatility* $\\sigma_t$. G(ARCH) models make $\\sigma_t$ a function of *past* returns and variances. Examples: "
   ]
  },
  {
   "cell_type": "markdown",
   "metadata": {
    "slideshow": {
     "slide_type": "slide"
    }
   },
   "source": [
    "## Examples\n",
    "* ARCH(q) (Engle, Econometrica 1982):\n",
    "$$\\sigma_t^2=\\omega+\\sum_{i=1}^q \\alpha_ir_{t-i}^2%,\\quad \\omega,\\alpha_i>0,\\quad \\sum_{i=1}^q\\alpha_i<1.\n",
    "$$\n",
    "* GARCH(p, q) (Bollerslev, JoE 1986)\n",
    "$$\\sigma_t^2=\\omega+ \\sum_{i=1}^p\\beta_{i}\\sigma_{t-i}^2 + \\sum_{i=1}^q\\alpha_ir_{t-i}^2%,\\quad \\omega,\\alpha_i,\\beta_i>0,\\quad \\sum_{i=1}^{\\max p,q} \\alpha_i+\\beta_i<1.\n",
    "$$\n",
    "* EGARCH(o, p, q) (Nelson, Econometrica 1991)\n",
    "$$\\log(\\sigma_t^2)=\\omega+\\sum_{i=1}^o\\gamma_{i}z_{t-i}+\\sum_{i=1}^p\\beta_i\\log(\\sigma_{t-i}^2)+\\sum_{i=1}^q \\alpha_i (|z_t|-\\mathbb{E}|z_t|)%, \\quad \\sum_{i=1}^p \\beta_i<0.\n",
    "$$\n",
    " \n",
    "  \n",
    "\n"
   ]
  },
  {
   "cell_type": "markdown",
   "metadata": {
    "slideshow": {
     "slide_type": "slide"
    }
   },
   "source": [
    "## Estimation\n",
    "* G(ARCH) models are usually estimated by maximum likelihood: with $f_z$ denoting the density of $z_t$,\n",
    "$$\\max \\sum_t \\log f(r_t\\mid \\mathcal{F}_{t-1})=\\max \\sum_t \\log f_z(r_t/\\sigma_t)-\\log \\sigma_t.$$\n",
    "* Recursive nature of $\\sigma_t$ means the computation cannot be \"vectorized\" $\\Rightarrow$ loops.\n",
    "* Julia is very well suited for this. Matlab (and the `rugarch` package for Python) have to implement the likelihood in C.\n",
    "\n"
   ]
  },
  {
   "cell_type": "markdown",
   "metadata": {
    "slideshow": {
     "slide_type": "slide"
    }
   },
   "source": [
    "# The `ARCHModels.jl` Package\n",
    "## Installation\n",
    "* `ARCHModels.jl` is a registered julia package. To install it, just do `using Pkg; Pkg.add(\"ARCHModels\")`\n",
    "*  Extensive documentation available at https://s-broda.github.io/ARCHModels.jl/stable/.\n",
    "* `ARCH.jl` is not a registered Julia package yet. To install it in Julia 1.0 or later, do"
   ]
  },
  {
   "cell_type": "markdown",
   "metadata": {
    "slideshow": {
     "slide_type": "slide"
    }
   },
   "source": [
    "## Key Features\n",
    "* Supports simulating, estimating, forecasting, and backtesting ARCH models.\n",
    "* Currently: ARCH, GARCH, TGARCH, and EGARCH models of arbitrary orders, with Gaussian, Student's $t$, and GED errors.\n",
    "* Regression and ARMA models for the mean equation.\n",
    "* CCC and DCC models for multivariate returns.\n",
    "* Entirely written in Julia.\n",
    "* Designed to be easily extensible with new models and distributions (nice thesis project...)\n",
    "* Gradients and Hessians (for both numerical maximization of the likelihood and constructing standard errors) are obtained by [automatic differentiation](http://www.autodiff.org/?module=Introduction) via `ForwardDiff.jl`."
   ]
  },
  {
   "cell_type": "markdown",
   "metadata": {
    "slideshow": {
     "slide_type": "slide"
    }
   },
   "source": [
    "## Usage"
   ]
  },
  {
   "cell_type": "markdown",
   "metadata": {},
   "source": [
    "* The first step in building an ARCH model is usually to test for the presence of volatility clustering.\n",
    "* `ARCHModels.jl` provides [Engle's (Econometrica 1982)](https://doi.org/10.2307/1912773) ARCH-LM test for this.\n",
    "* The null is that $\\gamma_i=0$ in the auxiliary regression\n",
    "$$\n",
    "r_t^2=\\alpha+\\gamma_1 r_{t-1}^2+\\gamma_2 r_{t-2}^2+\\cdots+\\gamma_p r_{t-p}^2+\\epsilon_t.\n",
    "$$"
   ]
  },
  {
   "cell_type": "code",
   "execution_count": 12,
   "metadata": {},
   "outputs": [
    {
     "data": {
      "text/plain": [
       "ARCH LM test for conditional heteroskedasticity\n",
       "-----------------------------------------------\n",
       "Population details:\n",
       "    parameter of interest:   T⋅R² in auxiliary regression\n",
       "    value under h_0:         0\n",
       "    point estimate:          147.398\n",
       "\n",
       "Test summary:\n",
       "    outcome with 95% confidence: reject h_0\n",
       "    p-value:                     <1e-30\n",
       "\n",
       "Details:\n",
       "    sample size:                    10205\n",
       "    number of lags:                 4\n",
       "    LM statistic:                   147.398\n"
      ]
     },
     "execution_count": 12,
     "metadata": {},
     "output_type": "execute_result"
    }
   ],
   "source": [
    "using ARCHModels\n",
    "ARCHLMTest(data, 4) # p = 4 lags"
   ]
  },
  {
   "cell_type": "markdown",
   "metadata": {},
   "source": [
    "* Unsurprisingly, the test rejects."
   ]
  },
  {
   "cell_type": "markdown",
   "metadata": {
    "slideshow": {
     "slide_type": "slide"
    }
   },
   "source": [
    "* Fitting a GARCH model is as simple as"
   ]
  },
  {
   "cell_type": "code",
   "execution_count": 13,
   "metadata": {},
   "outputs": [
    {
     "data": {
      "text/plain": [
       "\n",
       "GARCH{1, 1} model with Gaussian errors, T=10205.\n",
       "\n",
       "Mean equation parameters:\n",
       "─────────────────────────────────────────────\n",
       "     Estimate    Std.Error  z value  Pr(>|z|)\n",
       "─────────────────────────────────────────────\n",
       "μ  0.00184929  0.000257205  7.18994    <1e-12\n",
       "─────────────────────────────────────────────\n",
       "\n",
       "Volatility parameters:\n",
       "─────────────────────────────────────────────\n",
       "      Estimate  Std.Error   z value  Pr(>|z|)\n",
       "─────────────────────────────────────────────\n",
       "ω   5.67925e-6  2.9651e-6   1.91537    0.0554\n",
       "β₁  0.929851    0.0136741  68.0008     <1e-99\n",
       "α₁  0.0674646   0.0176432   3.82384    0.0001\n",
       "─────────────────────────────────────────────\n"
      ]
     },
     "execution_count": 13,
     "metadata": {},
     "output_type": "execute_result"
    }
   ],
   "source": [
    "model = fit(GARCH{1, 1}, data)"
   ]
  },
  {
   "cell_type": "markdown",
   "metadata": {
    "slideshow": {
     "slide_type": "slide"
    }
   },
   "source": [
    "* Alternatively, the (multithreaded!) `selectmodel` method does automatic model selection (i.e., chooses $p$ and $q$ by minimizing the AIC/AICC/BICC)."
   ]
  },
  {
   "cell_type": "code",
   "execution_count": 14,
   "metadata": {
    "slideshow": {
     "slide_type": "-"
    }
   },
   "outputs": [
    {
     "data": {
      "text/plain": [
       "\n",
       "GARCH{3, 1} model with Gaussian errors, T=10205.\n",
       "\n",
       "Mean equation parameters:\n",
       "─────────────────────────────────────────────\n",
       "     Estimate    Std.Error  z value  Pr(>|z|)\n",
       "─────────────────────────────────────────────\n",
       "μ  0.00201148  0.000241287  8.33647    <1e-16\n",
       "─────────────────────────────────────────────\n",
       "\n",
       "Volatility parameters:\n",
       "──────────────────────────────────────────────────\n",
       "       Estimate   Std.Error      z value  Pr(>|z|)\n",
       "──────────────────────────────────────────────────\n",
       "ω   1.34075e-5   1.42247e-6  9.42551        <1e-20\n",
       "β₁  0.520858     0.088458    5.88819        <1e-08\n",
       "β₂  1.36846e-48  3.42138e-7  3.99972e-42    1.0000\n",
       "β₃  0.358345     0.0886664   4.0415         <1e-04\n",
       "α₁  0.101772     0.0134813   7.54909        <1e-13\n",
       "──────────────────────────────────────────────────\n"
      ]
     },
     "execution_count": 14,
     "metadata": {},
     "output_type": "execute_result"
    }
   ],
   "source": [
    "model2 = selectmodel(GARCH, data; maxlags=3, criterion=bic) # optional keyword arguments"
   ]
  },
  {
   "cell_type": "markdown",
   "metadata": {
    "slideshow": {
     "slide_type": "slide"
    }
   },
   "source": [
    "* The return value is of type `UnivariateARCHModel`:"
   ]
  },
  {
   "cell_type": "code",
   "execution_count": 15,
   "metadata": {},
   "outputs": [
    {
     "data": {
      "text/plain": [
       "UnivariateARCHModel{Float64, GARCH{1, 1, Float64}, StdNormal{Float64}, Intercept{Float64}}"
      ]
     },
     "execution_count": 15,
     "metadata": {},
     "output_type": "execute_result"
    }
   ],
   "source": [
    "typeof(model)"
   ]
  },
  {
   "cell_type": "markdown",
   "metadata": {},
   "source": [
    "* `UnivariateARCHModel` supports many useful methods, such as \n",
    " `confint`, `aic`, `bic`, `aicc`, `informationmatrix`, `score`, `vcov`:\n"
   ]
  },
  {
   "cell_type": "code",
   "execution_count": 16,
   "metadata": {},
   "outputs": [
    {
     "data": {
      "text/plain": [
       "-45895.13689151763"
      ]
     },
     "execution_count": 16,
     "metadata": {},
     "output_type": "execute_result"
    }
   ],
   "source": [
    "aic(model)"
   ]
  },
  {
   "cell_type": "markdown",
   "metadata": {
    "slideshow": {
     "slide_type": "-"
    }
   },
   "source": [
    "* A `UnivariateARCHModel` essentially consists of a volatility specification (of type `VolatilitySpec`),\n",
    "an error distribution (of type `StandardizedDistribution`), and a mean specification (of type `MeanSpec`).\n",
    "* The following are currently implemented:"
   ]
  },
  {
   "cell_type": "code",
   "execution_count": 17,
   "metadata": {},
   "outputs": [
    {
     "name": "stdout",
     "output_type": "stream",
     "text": [
      "EGARCH TGARCH "
     ]
    }
   ],
   "source": [
    "print.(string.(subtypes(UnivariateVolatilitySpec)) .* \" \");"
   ]
  },
  {
   "cell_type": "code",
   "execution_count": 18,
   "metadata": {},
   "outputs": [
    {
     "name": "stdout",
     "output_type": "stream",
     "text": [
      "StdGED StdNormal StdSkewT StdT "
     ]
    }
   ],
   "source": [
    "print.(string.(subtypes(StandardizedDistribution))[2:end] .* \" \");"
   ]
  },
  {
   "cell_type": "code",
   "execution_count": 19,
   "metadata": {},
   "outputs": [
    {
     "name": "stdout",
     "output_type": "stream",
     "text": [
      "ARMA Intercept NoIntercept Regression "
     ]
    }
   ],
   "source": [
    "print.(string.(subtypes(MeanSpec)).* \" \");"
   ]
  },
  {
   "cell_type": "markdown",
   "metadata": {
    "slideshow": {
     "slide_type": "slide"
    }
   },
   "source": [
    "* We can use these to construct an ARCHModel manually:"
   ]
  },
  {
   "cell_type": "code",
   "execution_count": 20,
   "metadata": {},
   "outputs": [
    {
     "data": {
      "text/plain": [
       "\n",
       "EGARCH{1, 1, 1} model with Student's t errors, T=10000.\n",
       "\n",
       "\n",
       "─────────────────────────────────────────────────\n",
       "                              ω    γ₁    β₁    α₁\n",
       "─────────────────────────────────────────────────\n",
       "Volatility parameters:     0.02  0.09  0.83  0.01\n",
       "─────────────────────────────────────────────────\n",
       "──────────────────────────────\n",
       "                             ν\n",
       "──────────────────────────────\n",
       "Distribution parameters:   4.0\n",
       "──────────────────────────────\n"
      ]
     },
     "execution_count": 20,
     "metadata": {},
     "output_type": "execute_result"
    }
   ],
   "source": [
    "T = 10^4\n",
    "mydata = zeros(T)\n",
    "volaspec = EGARCH{1, 1, 1}([0.02, .09, .83, .01])\n",
    "using Random; Random.seed!(1)\n",
    "mymodel = UnivariateARCHModel(volaspec, mydata; dist=StdT(4.)) # dist is an optional keyword argument"
   ]
  },
  {
   "cell_type": "markdown",
   "metadata": {
    "slideshow": {
     "slide_type": "slide"
    }
   },
   "source": [
    "* With a `UnivariateARCHModel` in hand, we can do things like"
   ]
  },
  {
   "cell_type": "code",
   "execution_count": 21,
   "metadata": {},
   "outputs": [
    {
     "data": {
      "text/plain": [
       "\n",
       "EGARCH{1, 1, 1} model with Student's t errors, T=10000.\n",
       "\n",
       "\n",
       "─────────────────────────────────────────────────\n",
       "                              ω    γ₁    β₁    α₁\n",
       "─────────────────────────────────────────────────\n",
       "Volatility parameters:     0.02  0.09  0.83  0.01\n",
       "─────────────────────────────────────────────────\n",
       "──────────────────────────────\n",
       "                             ν\n",
       "──────────────────────────────\n",
       "Distribution parameters:   4.0\n",
       "──────────────────────────────\n"
      ]
     },
     "execution_count": 21,
     "metadata": {},
     "output_type": "execute_result"
    }
   ],
   "source": [
    "simulate!(mymodel) # by convention, the bang indicates that the method modifies its argument"
   ]
  },
  {
   "cell_type": "code",
   "execution_count": 22,
   "metadata": {},
   "outputs": [
    {
     "data": {
      "text/plain": [
       "\n",
       "EGARCH{1, 1, 1} model with Student's t errors, T=10000.\n",
       "\n",
       "\n",
       "Volatility parameters:\n",
       "───────────────────────────────────────────────\n",
       "       Estimate   Std.Error   z value  Pr(>|z|)\n",
       "───────────────────────────────────────────────\n",
       "ω    0.0274054   0.00733817   3.73464    0.0002\n",
       "γ₁   0.113959    0.0131327    8.67752    <1e-17\n",
       "β₁   0.811765    0.0244774   33.1638     <1e-99\n",
       "α₁  -0.00637894  0.0153358   -0.41595    0.6774\n",
       "───────────────────────────────────────────────\n",
       "\n",
       "Distribution parameters:\n",
       "─────────────────────────────────────────\n",
       "   Estimate  Std.Error  z value  Pr(>|z|)\n",
       "─────────────────────────────────────────\n",
       "ν   3.83768   0.152659   25.139    <1e-99\n",
       "─────────────────────────────────────────\n"
      ]
     },
     "execution_count": 22,
     "metadata": {},
     "output_type": "execute_result"
    }
   ],
   "source": [
    "fit!(mymodel)"
   ]
  },
  {
   "cell_type": "code",
   "execution_count": 23,
   "metadata": {
    "slideshow": {
     "slide_type": "slide"
    }
   },
   "outputs": [
    {
     "data": {
      "text/plain": [
       "ARCH LM test for conditional heteroskedasticity\n",
       "-----------------------------------------------\n",
       "Population details:\n",
       "    parameter of interest:   T⋅R² in auxiliary regression\n",
       "    value under h_0:         0\n",
       "    point estimate:          0.0873996\n",
       "\n",
       "Test summary:\n",
       "    outcome with 95% confidence: fail to reject h_0\n",
       "    p-value:                     0.7675\n",
       "\n",
       "Details:\n",
       "    sample size:                    10000\n",
       "    number of lags:                 1\n",
       "    LM statistic:                   0.0873996\n"
      ]
     },
     "execution_count": 23,
     "metadata": {},
     "output_type": "execute_result"
    }
   ],
   "source": [
    "ARCHLMTest(mymodel) # tests the standardized residuals"
   ]
  },
  {
   "cell_type": "code",
   "execution_count": 24,
   "metadata": {},
   "outputs": [
    {
     "data": {
      "text/plain": [
       "0.9582988646322497"
      ]
     },
     "execution_count": 24,
     "metadata": {},
     "output_type": "execute_result"
    }
   ],
   "source": [
    "predict(mymodel, :volatility) # (:volatility | :variance | :return | :VaR)"
   ]
  },
  {
   "cell_type": "markdown",
   "metadata": {
    "slideshow": {
     "slide_type": "slide"
    }
   },
   "source": [
    "## Value at Risk"
   ]
  },
  {
   "cell_type": "markdown",
   "metadata": {},
   "source": [
    "* In-sample Value-at-Risk estimates are available via the `VaRs` function"
   ]
  },
  {
   "cell_type": "code",
   "execution_count": 25,
   "metadata": {
    "slideshow": {
     "slide_type": "-"
    }
   },
   "outputs": [],
   "source": [
    "model = fit(GARCH{1, 1}, data)\n",
    "vars = VaRs(model, 0.05)\n",
    "\n",
    "if !isfile(\"VaRplot.svg\")\n",
    "    using Plots\n",
    "    plot(-data, legend=:none, xlabel=\"\\$t\\$\", ylabel=\"\\$-r_t\\$\", title=\"Value at Risk, In-Sample\")\n",
    "    plot!(vars, color=:purple)\n",
    "    savefig(\"VaRplot.svg\"); \n",
    "end"
   ]
  },
  {
   "cell_type": "markdown",
   "metadata": {
    "slideshow": {
     "slide_type": "slide"
    }
   },
   "source": [
    "<img src=\"VaRplot.svg\" alt=\"VALUE AT RISK\" style=\"display:block; margin-left: auto; margin-right: auto; width: 50%;\">"
   ]
  },
  {
   "cell_type": "markdown",
   "metadata": {
    "slideshow": {
     "slide_type": "slide"
    }
   },
   "source": [
    "* How about out-of-sample (backtesting)?\n",
    "* Requires re-estimating the model at each time step.\n",
    "* Not built in, but easy to do:"
   ]
  },
  {
   "cell_type": "code",
   "execution_count": 26,
   "metadata": {
    "slideshow": {
     "slide_type": "-"
    }
   },
   "outputs": [
    {
     "name": "stderr",
     "output_type": "stream",
     "text": [
      "\u001b[32mFitting 9204 GARCH models: 100%|████████████████████████| Time: 0:00:27\u001b[39m\n"
     ]
    }
   ],
   "source": [
    "using ProgressMeter\n",
    "\n",
    "T = length(data)\n",
    "windowsize = 1000\n",
    "vars = similar(data); fill!(vars, NaN)\n",
    "@showprogress \"Fitting $(T-1-windowsize) GARCH models: \" for t = windowsize+1:T-1\n",
    "    m = fit(GARCH{1, 1}, data[t-windowsize:t])\n",
    "    vars[t+1] = predict(m, :VaR; level=0.05)    \n",
    "end\n",
    "\n",
    "if !isfile(\"VaRplot_oos.svg\")\n",
    "    using Plots\n",
    "    plot(-data, legend=:none, xlabel=\"\\$t\\$\", ylabel=\"\\$-r_t\\$\", title=\"Value at Risk, Out-of-Sample\")\n",
    "    plot!(vars, color=:purple)\n",
    "    savefig(\"VaRplot_oos.svg\"); \n",
    "end"
   ]
  },
  {
   "cell_type": "markdown",
   "metadata": {
    "slideshow": {
     "slide_type": "slide"
    }
   },
   "source": [
    "<img src=\"VaRplot_oos.svg\" alt=\"VALUE AT RISK OUT OF SAMPLE\" style=\"display:block; margin-left: auto; margin-right: auto; width: 50%;\">"
   ]
  },
  {
   "cell_type": "markdown",
   "metadata": {
    "slideshow": {
     "slide_type": "slide"
    }
   },
   "source": [
    "* We can backtest these out-of-sample VaR predictions using Engle and Manganelli's (2004) dynamic quantile test.\n",
    "* The test is based on a *hit series* \n",
    "$$I_t\\equiv\\cases{1, r_t<-VaR_t\\\\0, \\mbox{otherwise.}}$$\n",
    "* The null is that $\\alpha=\\beta=\\gamma=0$ in the auxiliary regression\n",
    "$$\n",
    "I_t-0.05 = \\alpha +\\beta I_{t-1} + \\gamma VaR_t+\\epsilon_t.\n",
    "$$"
   ]
  },
  {
   "cell_type": "code",
   "execution_count": 27,
   "metadata": {
    "slideshow": {
     "slide_type": "slide"
    }
   },
   "outputs": [
    {
     "data": {
      "text/plain": [
       "Engle and Manganelli's (2004) DQ test (out of sample)\n",
       "-----------------------------------------------------\n",
       "Population details:\n",
       "    parameter of interest:   Wald statistic in auxiliary regression\n",
       "    value under h_0:         0\n",
       "    point estimate:          35.834\n",
       "\n",
       "Test summary:\n",
       "    outcome with 95% confidence: reject h_0\n",
       "    p-value:                     <1e-07\n",
       "\n",
       "Details:\n",
       "    sample size:                    9205\n",
       "    number of lags:                 1\n",
       "    VaR level:                      0.05\n",
       "    DQ statistic:                   35.834\n"
      ]
     },
     "execution_count": 27,
     "metadata": {},
     "output_type": "execute_result"
    }
   ],
   "source": [
    "DQTest(data[windowsize+1:end], vars[windowsize+1:end], 0.05)"
   ]
  },
  {
   "cell_type": "markdown",
   "metadata": {
    "slideshow": {
     "slide_type": "slide"
    }
   },
   "source": [
    "# Benchmarks\n",
    "  * Bollerslev and Ghysels (JBES 1996) data is de facto standard in comparing implementations of GARCH models.\n",
    "  * Data consist of daily German mark/British pound exchange rates (1974 observations).\n",
    "  * Available in `ARCHModels.jl` as the constant `BG96`."
   ]
  },
  {
   "cell_type": "code",
   "execution_count": 28,
   "metadata": {
    "slideshow": {
     "slide_type": "skip"
    }
   },
   "outputs": [],
   "source": [
    "if !isfile(\"DMGBP.svg\")\n",
    "    using Plots\n",
    "    plot(BG96, legend=:none, title=\"Bollerslev and Ghysels (1996) Data\", ylabel=\"\\$r_t\\$\", xlabel=\"\\$t\\$\")\n",
    "    savefig(\"DMGBP.svg\")\n",
    "end"
   ]
  },
  {
   "cell_type": "markdown",
   "metadata": {
    "slideshow": {
     "slide_type": "slide"
    }
   },
   "source": [
    "<img src=\"DMGBP.svg\" alt=\"Bollerslev and Ghysels (1996) data\" style=\"display:block; margin-left: auto; margin-right: auto; width: 50%;\">"
   ]
  },
  {
   "cell_type": "markdown",
   "metadata": {
    "slideshow": {
     "slide_type": "slide"
    }
   },
   "source": [
    "## GARCH\n",
    "* Fitting in Julia:"
   ]
  },
  {
   "cell_type": "code",
   "execution_count": 29,
   "metadata": {
    "slideshow": {
     "slide_type": "-"
    }
   },
   "outputs": [
    {
     "name": "stdout",
     "output_type": "stream",
     "text": [
      "  3.647 ms (2546 allocations: 203.33 KiB)\n"
     ]
    },
    {
     "data": {
      "text/plain": [
       "\n",
       "GARCH{1, 1} model with Gaussian errors, T=1974.\n",
       "\n",
       "Mean equation parameters:\n",
       "───────────────────────────────────────────────\n",
       "      Estimate   Std.Error    z value  Pr(>|z|)\n",
       "───────────────────────────────────────────────\n",
       "μ  -0.00616637  0.00920152  -0.670147    0.5028\n",
       "───────────────────────────────────────────────\n",
       "\n",
       "Volatility parameters:\n",
       "─────────────────────────────────────────────\n",
       "     Estimate   Std.Error   z value  Pr(>|z|)\n",
       "─────────────────────────────────────────────\n",
       "ω   0.0107606  0.00649303   1.65725    0.0975\n",
       "β₁  0.805875   0.0724765   11.1191     <1e-27\n",
       "α₁  0.153411   0.0536404    2.86       0.0042\n",
       "─────────────────────────────────────────────\n"
      ]
     },
     "execution_count": 29,
     "metadata": {},
     "output_type": "execute_result"
    }
   ],
   "source": [
    "using BenchmarkTools\n",
    "@btime fit(GARCH{1, 1}, $BG96)"
   ]
  },
  {
   "cell_type": "markdown",
   "metadata": {
    "slideshow": {
     "slide_type": "slide"
    }
   },
   "source": [
    "* Now Matlab:"
   ]
  },
  {
   "cell_type": "code",
   "execution_count": 30,
   "metadata": {},
   "outputs": [
    {
     "data": {
      "text/plain": [
       "\"9.10.0.1669831 (R2021a) Update 2\""
      ]
     },
     "execution_count": 30,
     "metadata": {},
     "output_type": "execute_result"
    }
   ],
   "source": [
    "using MATLAB\n",
    "mat\"version\""
   ]
  },
  {
   "cell_type": "code",
   "execution_count": 31,
   "metadata": {},
   "outputs": [
    {
     "name": "stdout",
     "output_type": "stream",
     "text": [
      " \n",
      "    GARCH(1,1) Conditional Variance Model with Offset (Gaussian Distribution):\n",
      " \n",
      "                  Value       StandardError    TStatistic      PValue  \n",
      "                __________    _____________    __________    __________\n",
      "\n",
      "    Constant      0.010761       0.001323         8.1342     4.1454e-16\n",
      "    GARCH{1}       0.80597        0.01656         48.669              0\n",
      "    ARCH{1}        0.15313       0.013974         10.959     6.0379e-28\n",
      "    Offset      -0.0061904      0.0084336       -0.73402        0.46294\n",
      "\n",
      "Elapsed time is 0.048306 seconds.\n"
     ]
    }
   ],
   "source": [
    "# run this cell a few times to give Matlab a fair chance\n",
    "mat\"tic; estimate(garch('ARCHLags', 1, 'GARCHLags', 1, 'offset', NaN), $BG96); toc; 0\";"
   ]
  },
  {
   "cell_type": "markdown",
   "metadata": {
    "slideshow": {
     "slide_type": "-"
    }
   },
   "source": [
    "* ARCH.jl is faster by a factor of about 10 or more, depending on the machine, despite Matlab calling into compiled C code.\n",
    "* Estimates are quite similar, but standard errors and $t$-statistics differ.\n",
    "* So which standard errors are correct? Let's compare with the results from Brooks et. al. (Int. J. Fcst. 2001).\n",
    "* Brooks et. al. compare implementations of the GARCH(1, 1) model.\n",
    "* They give the following estimates (**$t$-stats**) as benchmarks:\n",
    "$\\mu=−0.00619$ $(\\mathbf{−0.67})$, $\\omega=0.0108$ $(\\mathbf{1.66})$, $\\beta_1=0.806$ $(\\mathbf{11.11})$, $\\alpha_1=0.153$ $(\\mathbf{2.86})$.\n",
    "* `ARCHModels.jl` is bang on. Not sure what Matlab is doing...\n"
   ]
  },
  {
   "cell_type": "markdown",
   "metadata": {
    "slideshow": {
     "slide_type": "slide"
    }
   },
   "source": [
    "## EGARCH\n",
    "* Julia:"
   ]
  },
  {
   "cell_type": "code",
   "execution_count": 32,
   "metadata": {},
   "outputs": [
    {
     "name": "stdout",
     "output_type": "stream",
     "text": [
      "  3.349 ms (2529 allocations: 200.22 KiB)\n"
     ]
    },
    {
     "data": {
      "text/plain": [
       "\n",
       "EGARCH{1, 1, 1} model with Gaussian errors, T=1974.\n",
       "\n",
       "\n",
       "Volatility parameters:\n",
       "────────────────────────────────────────────\n",
       "     Estimate  Std.Error   z value  Pr(>|z|)\n",
       "────────────────────────────────────────────\n",
       "ω   -0.128026  0.051843   -2.46949    0.0135\n",
       "γ₁  -0.032216  0.0255372  -1.26153    0.2071\n",
       "β₁   0.911947  0.0331379  27.5198     <1e-99\n",
       "α₁   0.333243  0.0701077   4.75329    <1e-05\n",
       "────────────────────────────────────────────\n"
      ]
     },
     "execution_count": 32,
     "metadata": {},
     "output_type": "execute_result"
    }
   ],
   "source": [
    "@btime fit(EGARCH{1, 1, 1}, $BG96, meanspec=NoIntercept)"
   ]
  },
  {
   "cell_type": "markdown",
   "metadata": {
    "slideshow": {
     "slide_type": "slide"
    }
   },
   "source": [
    "* Matlab:"
   ]
  },
  {
   "cell_type": "code",
   "execution_count": 33,
   "metadata": {},
   "outputs": [
    {
     "name": "stdout",
     "output_type": "stream",
     "text": [
      " \n",
      "    EGARCH(1,1) Conditional Variance Model (Gaussian Distribution):\n",
      " \n",
      "                     Value      StandardError    TStatistic      PValue  \n",
      "                   _________    _____________    __________    __________\n",
      "\n",
      "    Constant         -0.1283       0.015788       -8.1267      4.4118e-16\n",
      "    GARCH{1}         0.91186      0.0084535        107.87               0\n",
      "    ARCH{1}          0.33317       0.021769        15.305      7.1324e-53\n",
      "    Leverage{1}    -0.032252       0.012564        -2.567        0.010259\n",
      "\n",
      "Elapsed time is 0.052252 seconds.\n"
     ]
    }
   ],
   "source": [
    "mat\"tic; estimate(egarch(1, 1), $BG96); toc; 0\";  # Matlab sets o=q"
   ]
  },
  {
   "cell_type": "markdown",
   "metadata": {},
   "source": [
    "* Brooks et. al. give no benchmark results. But again, `ARCHModels.jl is faster by a factor of more than 10."
   ]
  },
  {
   "cell_type": "markdown",
   "metadata": {
    "slideshow": {
     "slide_type": "slide"
    }
   },
   "source": [
    "#  TODO\n",
    "* More distributions (NIG, $\\alpha$-Stable, ...)\n",
    "* More GARCH models (APARCH, RiskMetrics, IGARCH, ...)\n",
    "\n"
   ]
  },
  {
   "cell_type": "markdown",
   "metadata": {
    "slideshow": {
     "slide_type": "slide"
    }
   },
   "source": [
    "# References\n",
    "* Bollerslev, T (1986). Generalized autoregressive conditional heteroskedasticity. *Journal of Econometrics* **31**, 307–327.\n",
    "* Bollerslev, T. & Ghysels, E. (1996). Periodic Autoregressive Conditional Heteroscedasticity. *Journal of Business & Economic Statistics* **14**, 139-151. https://doi.org/10.1080/07350015.1996.10524640.\n",
    "* Brooks, C., Burke, S. P., & Persand, G. (2001). Benchmarks and the accuracy of GARCH model estimation. *International Journal of Forecasting* **17**, 45-56. https://doi.org/10.1016/S0169-2070(00)00070-4.\n",
    "* Engle, R. F. (1982). Autoregressive Conditional Heteroscedasticity with Estimates of the Variance of United Kingdom Inflation. *Econometrica* **50**, 987-1007. https://doi.org/10.2307/1912773.\n",
    "* Engle, R. F., and Manganelli, S. (2004). CAViaR: Conditional Autoregressive Value at Risk by Regression Quantiles. *Journal of Business & Economic Statistics* **22**, 367-381. https://doi.org/10.1198/073500104000000370\n",
    "* Nelson, D.B. (1991). Conditional Heteroskedasticity in Asset Returns: A New Approach. *Econometrica* **59**, 347--370. https://doi.org/10.2307/2938260.\n",
    "\n"
   ]
  }
 ],
 "metadata": {
  "celltoolbar": "Slideshow",
  "kernelspec": {
   "display_name": "Julia 1.6.0",
   "language": "julia",
   "name": "julia-1.6"
  },
  "language_info": {
   "file_extension": ".jl",
   "mimetype": "application/julia",
   "name": "julia",
   "version": "1.6.0"
  },
  "livereveal": {
   "auto_select": "code",
   "auto_select_fragment": true,
   "start_slideshow_at": "selected"
  }
 },
 "nbformat": 4,
 "nbformat_minor": 2
}
