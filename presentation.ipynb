{
 "cells": [
  {
   "cell_type": "code",
   "execution_count": 1,
   "metadata": {
    "slideshow": {
     "slide_type": "skip"
    }
   },
   "outputs": [
    {
     "name": "stderr",
     "output_type": "stream",
     "text": [
      "\u001b[32m\u001b[1m  Activating\u001b[22m\u001b[39m environment at `C:\\Users\\sabro\\Documents\\julia\\notebooks\\presentation\\presentation_ebs\\Project.toml`\n",
      "\u001b[32m\u001b[1m    Updating\u001b[22m\u001b[39m registry at `C:\\Users\\sabro\\.julia\\registries\\General`\n",
      "\u001b[32m\u001b[1m    Updating\u001b[22m\u001b[39m git-repo `https://github.com/JuliaRegistries/General.git`\n",
      "\u001b[32m\u001b[1m   Resolving\u001b[22m\u001b[39m package versions...\n",
      "\u001b[32m\u001b[1m  No Changes\u001b[22m\u001b[39m to `C:\\Users\\sabro\\Documents\\julia\\notebooks\\presentation\\presentation_ebs\\Project.toml`\n",
      "\u001b[32m\u001b[1m  No Changes\u001b[22m\u001b[39m to `C:\\Users\\sabro\\Documents\\julia\\notebooks\\presentation\\presentation_ebs\\Manifest.toml`\n",
      "┌ Info: Running `conda install -y -c conda-forge arch-py` in root environment\n",
      "└ @ Conda C:\\Users\\sabro\\.julia\\packages\\Conda\\sNGum\\src\\Conda.jl:128\n"
     ]
    },
    {
     "name": "stdout",
     "output_type": "stream",
     "text": [
      "Collecting package metadata (current_repodata.json): ...working... done\n",
      "Solving environment: ...working... done\n",
      "\n",
      "# All requested packages already installed.\n",
      "\n"
     ]
    },
    {
     "name": "stderr",
     "output_type": "stream",
     "text": [
      "\u001b[32m\u001b[1m    Updating\u001b[22m\u001b[39m registry at `C:\\Users\\sabro\\.julia\\registries\\General`\n",
      "\u001b[32m\u001b[1m    Updating\u001b[22m\u001b[39m git-repo `https://github.com/JuliaRegistries/General.git`\n",
      "\u001b[32m\u001b[1m  No Changes\u001b[22m\u001b[39m to `C:\\Users\\sabro\\Documents\\julia\\notebooks\\presentation\\presentation_ebs\\Project.toml`\n",
      "\u001b[32m\u001b[1m  No Changes\u001b[22m\u001b[39m to `C:\\Users\\sabro\\Documents\\julia\\notebooks\\presentation\\presentation_ebs\\Manifest.toml`\n"
     ]
    }
   ],
   "source": [
    "using Pkg\n",
    "Pkg.activate(\"presentation_ebs\")\n",
    "Pkg.add([\"BenchmarkTools\", \"MATLAB\", \"LoopVectorization\",\n",
    "         \"MarketData\", \"TimeSeries\", \"Distributions\",\n",
    "         \"KernelDensity\", \"StatsPlots\", \"ProgressMeter\",\n",
    "         \"PyCall\", \"Conda\", \"ARCHModels\"])\n",
    "using Conda\n",
    "Conda.add(\"arch-py\", channel=\"conda-forge\")\n",
    "Pkg.update()\n"
   ]
  },
  {
   "cell_type": "markdown",
   "metadata": {
    "slideshow": {
     "slide_type": "slide"
    }
   },
   "source": [
    "##### <p style=\"text-align: center; font-size: 300%\"> The Unreasonable Effectiveness of Julia </p>\n",
    "<p style=\"text-align: center; font-size: 200%\"> Simon A. Broda </p>\n",
    "<p style=\"text-align: center; font-size: 100%\"> University of Amsterdam and Hochschule Luzern<br>\n",
    "<a href=\"mailto:simon.broda@uzh.ch\">s.a.broda@uva.nl</a> </p>\n",
    "<img src=\"EULOGO.jpg\" alt=\"LOGO\" style=\"display:block; margin-left: auto; margin-right: auto; width: 20%;\">\n",
    "<p style=\"text-align: center; font-size: 100%\"> This project has received funding from the European Research Council (ERC) under the European Union's Horizon 2020 research and innovation program (grant agreement No. 750559). </p>"
   ]
  },
  {
   "cell_type": "markdown",
   "metadata": {
    "slideshow": {
     "slide_type": "slide"
    }
   },
   "source": [
    "# Outline\n",
    "* The Julia Language\n",
    "* Refresher on ARCH Models\n",
    "* The `ARCHModels.jl` Package\n",
    "   * Usage\n",
    "   * Benchmarks\n",
    "\n",
    "\n",
    "These slides are available at https://github.com/s-broda/presentation."
   ]
  },
  {
   "cell_type": "markdown",
   "metadata": {
    "slideshow": {
     "slide_type": "slide"
    }
   },
   "source": [
    "# The Julia Language\n",
    "## General Information\n",
    "* New programming language started at MIT.\n",
    "* Designed with scientific computing in mind.\n",
    "* Version 1.0 released in August 2018 after 9 years of development. Current version is 1.6.\n",
    "* Free and open source software. Available at https://julialang.org/.\n",
    "* In the words of its creators,\n",
    "> We want a language that’s open source, with a liberal license. We want the speed of C with the dynamism of Ruby. We want a\n",
    "language that’s homoiconic, with true macros like Lisp, but with obvious, familiar mathematical notation like Matlab. We want\n",
    "something as usable for general programming as Python, as easy for statistics as R, as natural for string processing as Perl, as\n",
    "powerful for linear algebra as Matlab, as good at gluing programs together as the shell. Something that is dirt simple to learn,\n",
    "yet keeps the most serious hackers happy. We want it interactive and we want it compiled.\n"
   ]
  },
  {
   "cell_type": "markdown",
   "metadata": {
    "slideshow": {
     "slide_type": "slide"
    }
   },
   "source": [
    "\n",
    "## Highlights for Scientists\n",
    "* Interactive REPL (like Matlab, Python, R, etc.) allows for exploratory analysis, rapid prototyping.\n",
    "* Unlike these, Julia is JIT compiled, hence fast (typically within a few percent of C)\n",
    "* Syntax superficially similar to Matlab.\n",
    "* Rich type system, multiple dispatch.\n",
    "* Fast-growing eco-system with many state-of-the-art packages (e.g., `ForwardDiff.jl`, `DifferentialEquations.jl`, `JuMP`, ...).\n"
   ]
  },
  {
   "cell_type": "markdown",
   "metadata": {
    "slideshow": {
     "slide_type": "slide"
    }
   },
   "source": [
    "## A Small Taste of Julia"
   ]
  },
  {
   "cell_type": "markdown",
   "metadata": {},
   "source": [
    "* Let's say we want to implement a function that sums an array:"
   ]
  },
  {
   "cell_type": "code",
   "execution_count": 2,
   "metadata": {},
   "outputs": [
    {
     "data": {
      "text/plain": [
       "6.0"
      ]
     },
     "execution_count": 2,
     "metadata": {},
     "output_type": "execute_result"
    }
   ],
   "source": [
    "function mysum(x)\n",
    "    s = zero(eltype(x))\n",
    "    for i in eachindex(x)\n",
    "        s += x[i]\n",
    "    end\n",
    "    s\n",
    "end\n",
    "mysum([1., 2., 3.])"
   ]
  },
  {
   "cell_type": "markdown",
   "metadata": {},
   "source": [
    "* Let's benchmark it:"
   ]
  },
  {
   "cell_type": "code",
   "execution_count": 3,
   "metadata": {},
   "outputs": [],
   "source": [
    "x = randn(10^7);"
   ]
  },
  {
   "cell_type": "code",
   "execution_count": 4,
   "metadata": {},
   "outputs": [
    {
     "name": "stdout",
     "output_type": "stream",
     "text": [
      "  7.458 ms (1 allocation: 16 bytes)\n"
     ]
    }
   ],
   "source": [
    "using BenchmarkTools\n",
    "@btime mysum(x); # @btime runs the code a large number of times"
   ]
  },
  {
   "cell_type": "markdown",
   "metadata": {},
   "source": [
    "* For comparison, the built-in function:"
   ]
  },
  {
   "cell_type": "code",
   "execution_count": 5,
   "metadata": {},
   "outputs": [
    {
     "name": "stdout",
     "output_type": "stream",
     "text": [
      "  2.680 ms (1 allocation: 16 bytes)\n"
     ]
    }
   ],
   "source": [
    "@btime sum(x);"
   ]
  },
  {
   "cell_type": "markdown",
   "metadata": {
    "slideshow": {
     "slide_type": "slide"
    }
   },
   "source": [
    "* Close, but we are 2-3x slower.\n",
    "* But we can do better! 2nd attempt:"
   ]
  },
  {
   "cell_type": "code",
   "execution_count": 51,
   "metadata": {},
   "outputs": [
    {
     "data": {
      "text/plain": [
       "6.0"
      ]
     },
     "execution_count": 51,
     "metadata": {},
     "output_type": "execute_result"
    }
   ],
   "source": [
    "function mysum(x)\n",
    "    s = zero(eltype(x))\n",
    "    @inbounds @simd for i in eachindex(x) # @simd exploits 'single instruction multiple data', a type of parallelism\n",
    "        s += x[i]\n",
    "    end\n",
    "    s\n",
    "end\n",
    "mysum([1., 2., 3.])"
   ]
  },
  {
   "cell_type": "code",
   "execution_count": 52,
   "metadata": {},
   "outputs": [
    {
     "name": "stdout",
     "output_type": "stream",
     "text": [
      "  2.638 ms (1 allocation: 16 bytes)\n"
     ]
    }
   ],
   "source": [
    "@btime mysum(x);"
   ]
  },
  {
   "cell_type": "markdown",
   "metadata": {},
   "source": [
    "* Not bad: by just adding a simple decorator, we now match the speed of the built-in function!\n",
    "* This is, in fact, expected: the built-in function is implemented in Julia, like most of the standard library.\n",
    "* We can even look at the code:"
   ]
  },
  {
   "cell_type": "code",
   "execution_count": 53,
   "metadata": {},
   "outputs": [
    {
     "data": {
      "text/html": [
       "sum(a::<b>AbstractArray</b>; <i>dims, kw...</i>) in Base at <a href=\"https://github.com/JuliaLang/julia/tree/f9720dc2ebd6cd9e3086365f281e62506444ef37/base/reducedim.jl#L873\" target=\"_blank\">reducedim.jl:873</a>"
      ],
      "text/plain": [
       "sum(a::AbstractArray; dims, kw...) in Base at reducedim.jl:873"
      ]
     },
     "execution_count": 53,
     "metadata": {},
     "output_type": "execute_result"
    }
   ],
   "source": [
    "@which sum(x)"
   ]
  },
  {
   "cell_type": "markdown",
   "metadata": {
    "slideshow": {
     "slide_type": "slide"
    }
   },
   "source": [
    "## One more thing..."
   ]
  },
  {
   "cell_type": "code",
   "execution_count": 9,
   "metadata": {},
   "outputs": [
    {
     "data": {
      "text/plain": [
       "6.0"
      ]
     },
     "execution_count": 9,
     "metadata": {},
     "output_type": "execute_result"
    }
   ],
   "source": [
    "using LoopVectorization\n",
    "function mysum(x)\n",
    "    s = zero(eltype(x))\n",
    "    @tturbo for i in eachindex(x)\n",
    "        s += x[i]\n",
    "    end\n",
    "    s\n",
    "end\n",
    "mysum([1., 2., 3.])"
   ]
  },
  {
   "cell_type": "code",
   "execution_count": 10,
   "metadata": {},
   "outputs": [
    {
     "name": "stdout",
     "output_type": "stream",
     "text": [
      "  948.600 μs (1 allocation: 16 bytes)\n"
     ]
    }
   ],
   "source": [
    "@btime mysum(x);"
   ]
  },
  {
   "cell_type": "markdown",
   "metadata": {},
   "source": [
    "* __Wow :o__\n",
    "* This difference comes from multi-threading; @tturbo exploits all the cores the machine has available."
   ]
  },
  {
   "cell_type": "markdown",
   "metadata": {
    "slideshow": {
     "slide_type": "slide"
    }
   },
   "source": [
    "# Refresher on ARCH Models\n",
    "* Daily financial returns data exhibit a number of *stylized facts*:\n",
    "  * Volatility clustering\n",
    "  * Non-Gaussianity, fat tails\n",
    "  * Leverage effects: negative returns increase future volatility\n",
    "* Other types of data (e.g., changes in interest rates) exhibit similar phenomena.\n",
    "* These effects are important in many areas in finance, in particular in risk management.\n",
    "* [G]ARCH ([**G**eneralized] **A**utoregressive **C**onditional **V**olatility) models are the most popular for modelling them."
   ]
  },
  {
   "cell_type": "markdown",
   "metadata": {
    "slideshow": {
     "slide_type": "slide"
    }
   },
   "source": [
    "## Example: volatility clustering in AAPL returns\n",
    "* The `MarketData` package allows us to download historical data from Yahoo Finance. "
   ]
  },
  {
   "cell_type": "code",
   "execution_count": 11,
   "metadata": {
    "slideshow": {
     "slide_type": "-"
    }
   },
   "outputs": [],
   "source": [
    "using MarketData, TimeSeries\n",
    "r = percentchange(yahoo(:AAPL)[:AdjClose]) # returns a TimeArray\n",
    "data = values(r) # an array containing just the plain data\n",
    "\n",
    "if !isfile(\"returns.svg\") || !isfile(\"kde.svg\")\n",
    "    using Distributions, KernelDensity, StatsPlots\n",
    "    plot(r, title=\"Volatility Clustering\", legend=:none, ylabel=\"\\$r_t\\$\")\n",
    "    savefig(\"returns.svg\")\n",
    "    plot(kde(data), label=\"Kernel Density\", title=\"Fat Tails\")\n",
    "    plot!(fit(Normal, data), label=\"Fitted Normal\")\n",
    "    savefig(\"kde.svg\")\n",
    "end"
   ]
  },
  {
   "cell_type": "markdown",
   "metadata": {
    "slideshow": {
     "slide_type": "slide"
    }
   },
   "source": [
    "<img src=\"returns.svg\" alt=\"RETURNS\" style=\"display:block; margin-left: auto; margin-right: auto; width: 50%;\">"
   ]
  },
  {
   "cell_type": "markdown",
   "metadata": {
    "slideshow": {
     "slide_type": "slide"
    }
   },
   "source": [
    "<img src=\"kde.svg\" alt=\"Kernel Density\" style=\"display:block; margin-left: auto; margin-right: auto; width: 50%;\">"
   ]
  },
  {
   "cell_type": "markdown",
   "metadata": {
    "slideshow": {
     "slide_type": "slide"
    }
   },
   "source": [
    "\n",
    "\n",
    "## (G)ARCH Models\n",
    "* Basic setup: given a sample of financial returns $\\{r_t\\}_{t\\in\\{1,\\ldots,T\\}}$, decompose $r_t$ as\n",
    "$$\n",
    "r_t=\\mu_t+\\sigma_tz_t, \\quad z_t\\stackrel{i.i.d.}{\\sim}(0,1),\n",
    "$$\n",
    "where $\\mu_t\\equiv\\mathbb{E}[r_t\\mid \\mathcal{F}_{t-1}]$ and $\\sigma_t^2\\equiv \\mathbb{E}[(r_t-\\mu_t)^2\\mid \\mathcal{F}_{t-1}]$.\n",
    "* Assume $\\mu_t=0$ for simplicity. Focus is on the *volatility* $\\sigma_t$. G(ARCH) models make $\\sigma_t$ a function of *past* returns and variances. Examples: "
   ]
  },
  {
   "cell_type": "markdown",
   "metadata": {
    "slideshow": {
     "slide_type": "slide"
    }
   },
   "source": [
    "## Examples\n",
    "* ARCH(q) (Engle, Econometrica 1982):\n",
    "$$\\sigma_t^2=\\omega+\\sum_{i=1}^q \\alpha_ir_{t-i}^2%,\\quad \\omega,\\alpha_i>0,\\quad \\sum_{i=1}^q\\alpha_i<1.\n",
    "$$\n",
    "* GARCH(p, q) (Bollerslev, JoE 1986)\n",
    "$$\\sigma_t^2=\\omega+ \\sum_{i=1}^p\\beta_{i}\\sigma_{t-i}^2 + \\sum_{i=1}^q\\alpha_ir_{t-i}^2%,\\quad \\omega,\\alpha_i,\\beta_i>0,\\quad \\sum_{i=1}^{\\max p,q} \\alpha_i+\\beta_i<1.\n",
    "$$\n",
    "* EGARCH(o, p, q) (Nelson, Econometrica 1991)\n",
    "$$\\log(\\sigma_t^2)=\\omega+\\sum_{i=1}^o\\gamma_{i}z_{t-i}+\\sum_{i=1}^p\\beta_i\\log(\\sigma_{t-i}^2)+\\sum_{i=1}^q \\alpha_i (|z_t|-\\mathbb{E}|z_t|)%, \\quad \\sum_{i=1}^p \\beta_i<0.\n",
    "$$\n",
    "* and many (many, many...) others \n",
    "  \n",
    "\n"
   ]
  },
  {
   "cell_type": "markdown",
   "metadata": {
    "slideshow": {
     "slide_type": "slide"
    }
   },
   "source": [
    "## Estimation\n",
    "* G(ARCH) models are usually estimated by maximum likelihood: with $f_z$ denoting the density of $z_t$,\n",
    "$$\\max \\sum_t \\log f(r_t\\mid \\mathcal{F}_{t-1})=\\max \\sum_t \\log f_z(r_t/\\sigma_t)-\\log \\sigma_t.$$\n",
    "* Recursive nature of $\\sigma_t$ means the computation cannot be \"vectorized\" $\\Rightarrow$ loops.\n",
    "* Julia is very well suited for this. Matlab (and the `rugarch` package for Python) have to implement the likelihood in C.\n",
    "\n"
   ]
  },
  {
   "cell_type": "markdown",
   "metadata": {
    "slideshow": {
     "slide_type": "slide"
    }
   },
   "source": [
    "# The `ARCHModels.jl` Package\n",
    "## Installation\n",
    "* `ARCHModels.jl` is a registered julia package. To install it, just do `using Pkg; Pkg.add(\"ARCHModels\")`\n",
    "*  Extensive documentation available at https://s-broda.github.io/ARCHModels.jl/stable/."
   ]
  },
  {
   "cell_type": "markdown",
   "metadata": {
    "slideshow": {
     "slide_type": "slide"
    }
   },
   "source": [
    "## Key Features\n",
    "* Supports simulating, estimating, forecasting, and backtesting ARCH models.\n",
    "* Currently: ARCH, GARCH, TGARCH, and EGARCH models of arbitrary orders, with Gaussian, Student's $t$, and GED errors.\n",
    "* Regression and ARMA models for the mean equation.\n",
    "* CCC and DCC models for multivariate returns.\n",
    "* Entirely written in Julia.\n",
    "* Designed to be easily extensible with new models and distributions (nice thesis project...)\n",
    "* Gradients and Hessians (for both numerical maximization of the likelihood and constructing standard errors) are obtained by [automatic differentiation](http://www.autodiff.org/?module=Introduction) via `ForwardDiff.jl`."
   ]
  },
  {
   "cell_type": "markdown",
   "metadata": {
    "slideshow": {
     "slide_type": "slide"
    }
   },
   "source": [
    "## Usage"
   ]
  },
  {
   "cell_type": "markdown",
   "metadata": {},
   "source": [
    "* The first step in building an ARCH model is usually to test for the presence of volatility clustering.\n",
    "* `ARCHModels.jl` provides [Engle's (Econometrica 1982)](https://doi.org/10.2307/1912773) ARCH-LM test for this.\n",
    "* The null is that $\\gamma_i=0$ in the auxiliary regression\n",
    "$$\n",
    "r_t^2=\\alpha+\\gamma_1 r_{t-1}^2+\\gamma_2 r_{t-2}^2+\\cdots+\\gamma_p r_{t-p}^2+\\epsilon_t.\n",
    "$$"
   ]
  },
  {
   "cell_type": "code",
   "execution_count": 54,
   "metadata": {},
   "outputs": [
    {
     "data": {
      "text/plain": [
       "ARCH LM test for conditional heteroskedasticity\n",
       "-----------------------------------------------\n",
       "Population details:\n",
       "    parameter of interest:   T⋅R² in auxiliary regression\n",
       "    value under h_0:         0\n",
       "    point estimate:          147.398\n",
       "\n",
       "Test summary:\n",
       "    outcome with 95% confidence: reject h_0\n",
       "    p-value:                     <1e-30\n",
       "\n",
       "Details:\n",
       "    sample size:                    10205\n",
       "    number of lags:                 4\n",
       "    LM statistic:                   147.398\n"
      ]
     },
     "execution_count": 54,
     "metadata": {},
     "output_type": "execute_result"
    }
   ],
   "source": [
    "using ARCHModels\n",
    "ARCHLMTest(data, 4) # p = 4 lags"
   ]
  },
  {
   "cell_type": "markdown",
   "metadata": {},
   "source": [
    "* Unsurprisingly, the test rejects."
   ]
  },
  {
   "cell_type": "markdown",
   "metadata": {
    "slideshow": {
     "slide_type": "slide"
    }
   },
   "source": [
    "* Fitting a GARCH model is as simple as"
   ]
  },
  {
   "cell_type": "code",
   "execution_count": 13,
   "metadata": {},
   "outputs": [
    {
     "data": {
      "text/plain": [
       "\n",
       "GARCH{1, 1} model with Gaussian errors, T=10205.\n",
       "\n",
       "Mean equation parameters:\n",
       "─────────────────────────────────────────────\n",
       "     Estimate    Std.Error  z value  Pr(>|z|)\n",
       "─────────────────────────────────────────────\n",
       "μ  0.00184929  0.000257205  7.18994    <1e-12\n",
       "─────────────────────────────────────────────\n",
       "\n",
       "Volatility parameters:\n",
       "─────────────────────────────────────────────\n",
       "      Estimate  Std.Error   z value  Pr(>|z|)\n",
       "─────────────────────────────────────────────\n",
       "ω   5.67925e-6  2.9651e-6   1.91537    0.0554\n",
       "β₁  0.929851    0.0136741  68.0008     <1e-99\n",
       "α₁  0.0674646   0.0176432   3.82384    0.0001\n",
       "─────────────────────────────────────────────\n"
      ]
     },
     "execution_count": 13,
     "metadata": {},
     "output_type": "execute_result"
    }
   ],
   "source": [
    "model = fit(GARCH{1, 1}, data)"
   ]
  },
  {
   "cell_type": "markdown",
   "metadata": {
    "slideshow": {
     "slide_type": "slide"
    }
   },
   "source": [
    "* Alternatively, the (multithreaded!) `selectmodel` method does automatic model selection (i.e., chooses $p$ and $q$ by minimizing the AIC/AICC/BICC)."
   ]
  },
  {
   "cell_type": "code",
   "execution_count": 14,
   "metadata": {
    "slideshow": {
     "slide_type": "-"
    }
   },
   "outputs": [
    {
     "data": {
      "text/plain": [
       "\n",
       "GARCH{3, 1} model with Gaussian errors, T=10205.\n",
       "\n",
       "Mean equation parameters:\n",
       "─────────────────────────────────────────────\n",
       "     Estimate    Std.Error  z value  Pr(>|z|)\n",
       "─────────────────────────────────────────────\n",
       "μ  0.00201148  0.000241287  8.33647    <1e-16\n",
       "─────────────────────────────────────────────\n",
       "\n",
       "Volatility parameters:\n",
       "──────────────────────────────────────────────────\n",
       "       Estimate   Std.Error      z value  Pr(>|z|)\n",
       "──────────────────────────────────────────────────\n",
       "ω   1.34075e-5   1.42247e-6  9.42551        <1e-20\n",
       "β₁  0.520858     0.088458    5.88819        <1e-08\n",
       "β₂  1.36846e-48  3.42138e-7  3.99972e-42    1.0000\n",
       "β₃  0.358345     0.0886664   4.0415         <1e-04\n",
       "α₁  0.101772     0.0134813   7.54909        <1e-13\n",
       "──────────────────────────────────────────────────\n"
      ]
     },
     "execution_count": 14,
     "metadata": {},
     "output_type": "execute_result"
    }
   ],
   "source": [
    "model2 = selectmodel(GARCH, data; maxlags=3, criterion=bic) # optional keyword arguments"
   ]
  },
  {
   "cell_type": "markdown",
   "metadata": {
    "slideshow": {
     "slide_type": "slide"
    }
   },
   "source": [
    "* The return value is of type `UnivariateARCHModel`:"
   ]
  },
  {
   "cell_type": "code",
   "execution_count": 15,
   "metadata": {},
   "outputs": [
    {
     "data": {
      "text/plain": [
       "UnivariateARCHModel{Float64, GARCH{1, 1, Float64}, StdNormal{Float64}, Intercept{Float64}}"
      ]
     },
     "execution_count": 15,
     "metadata": {},
     "output_type": "execute_result"
    }
   ],
   "source": [
    "typeof(model)"
   ]
  },
  {
   "cell_type": "markdown",
   "metadata": {},
   "source": [
    "* `UnivariateARCHModel` supports many useful methods, such as \n",
    " `confint`, `aic`, `bic`, `aicc`, `informationmatrix`, `score`, `vcov`:\n"
   ]
  },
  {
   "cell_type": "code",
   "execution_count": 16,
   "metadata": {},
   "outputs": [
    {
     "data": {
      "text/plain": [
       "-45895.13689151763"
      ]
     },
     "execution_count": 16,
     "metadata": {},
     "output_type": "execute_result"
    }
   ],
   "source": [
    "aic(model)"
   ]
  },
  {
   "cell_type": "markdown",
   "metadata": {
    "slideshow": {
     "slide_type": "-"
    }
   },
   "source": [
    "* A `UnivariateARCHModel` essentially consists of a volatility specification (of type `UnivariateVolatilitySpec`),\n",
    "an error distribution (of type `StandardizedDistribution`), and a mean specification (of type `MeanSpec`).\n",
    "* The following are currently implemented:"
   ]
  },
  {
   "cell_type": "code",
   "execution_count": 17,
   "metadata": {},
   "outputs": [
    {
     "name": "stdout",
     "output_type": "stream",
     "text": [
      "EGARCH TGARCH "
     ]
    }
   ],
   "source": [
    "print.(string.(subtypes(UnivariateVolatilitySpec)) .* \" \");"
   ]
  },
  {
   "cell_type": "code",
   "execution_count": 18,
   "metadata": {},
   "outputs": [
    {
     "name": "stdout",
     "output_type": "stream",
     "text": [
      "StdGED StdNormal StdSkewT StdT "
     ]
    }
   ],
   "source": [
    "print.(string.(subtypes(StandardizedDistribution))[2:end] .* \" \");"
   ]
  },
  {
   "cell_type": "code",
   "execution_count": 19,
   "metadata": {},
   "outputs": [
    {
     "name": "stdout",
     "output_type": "stream",
     "text": [
      "ARMA Intercept NoIntercept Regression "
     ]
    }
   ],
   "source": [
    "print.(string.(subtypes(MeanSpec)).* \" \");"
   ]
  },
  {
   "cell_type": "markdown",
   "metadata": {
    "slideshow": {
     "slide_type": "slide"
    }
   },
   "source": [
    "* We can use these to construct an ARCHModel manually:"
   ]
  },
  {
   "cell_type": "code",
   "execution_count": 20,
   "metadata": {},
   "outputs": [
    {
     "data": {
      "text/plain": [
       "\n",
       "EGARCH{1, 1, 1} model with Student's t errors, T=10000.\n",
       "\n",
       "\n",
       "─────────────────────────────────────────────────\n",
       "                              ω    γ₁    β₁    α₁\n",
       "─────────────────────────────────────────────────\n",
       "Volatility parameters:     0.02  0.09  0.83  0.01\n",
       "─────────────────────────────────────────────────\n",
       "──────────────────────────────\n",
       "                             ν\n",
       "──────────────────────────────\n",
       "Distribution parameters:   4.0\n",
       "──────────────────────────────\n"
      ]
     },
     "execution_count": 20,
     "metadata": {},
     "output_type": "execute_result"
    }
   ],
   "source": [
    "T = 10^4\n",
    "mydata = zeros(T)\n",
    "volaspec = EGARCH{1, 1, 1}([0.02, .09, .83, .01])\n",
    "using Random; Random.seed!(1)\n",
    "mymodel = UnivariateARCHModel(volaspec, mydata; dist=StdT(4.)) # dist is an optional keyword argument"
   ]
  },
  {
   "cell_type": "markdown",
   "metadata": {
    "slideshow": {
     "slide_type": "slide"
    }
   },
   "source": [
    "* With a `UnivariateARCHModel` in hand, we can do things like"
   ]
  },
  {
   "cell_type": "code",
   "execution_count": 21,
   "metadata": {},
   "outputs": [
    {
     "data": {
      "text/plain": [
       "\n",
       "EGARCH{1, 1, 1} model with Student's t errors, T=10000.\n",
       "\n",
       "\n",
       "─────────────────────────────────────────────────\n",
       "                              ω    γ₁    β₁    α₁\n",
       "─────────────────────────────────────────────────\n",
       "Volatility parameters:     0.02  0.09  0.83  0.01\n",
       "─────────────────────────────────────────────────\n",
       "──────────────────────────────\n",
       "                             ν\n",
       "──────────────────────────────\n",
       "Distribution parameters:   4.0\n",
       "──────────────────────────────\n"
      ]
     },
     "execution_count": 21,
     "metadata": {},
     "output_type": "execute_result"
    }
   ],
   "source": [
    "simulate!(mymodel) # by convention, the bang indicates that the method modifies its argument"
   ]
  },
  {
   "cell_type": "code",
   "execution_count": 22,
   "metadata": {},
   "outputs": [
    {
     "data": {
      "text/plain": [
       "\n",
       "EGARCH{1, 1, 1} model with Student's t errors, T=10000.\n",
       "\n",
       "\n",
       "Volatility parameters:\n",
       "───────────────────────────────────────────────\n",
       "       Estimate   Std.Error   z value  Pr(>|z|)\n",
       "───────────────────────────────────────────────\n",
       "ω    0.0274054   0.00733817   3.73464    0.0002\n",
       "γ₁   0.113959    0.0131327    8.67752    <1e-17\n",
       "β₁   0.811765    0.0244774   33.1638     <1e-99\n",
       "α₁  -0.00637894  0.0153358   -0.41595    0.6774\n",
       "───────────────────────────────────────────────\n",
       "\n",
       "Distribution parameters:\n",
       "─────────────────────────────────────────\n",
       "   Estimate  Std.Error  z value  Pr(>|z|)\n",
       "─────────────────────────────────────────\n",
       "ν   3.83768   0.152659   25.139    <1e-99\n",
       "─────────────────────────────────────────\n"
      ]
     },
     "execution_count": 22,
     "metadata": {},
     "output_type": "execute_result"
    }
   ],
   "source": [
    "fit!(mymodel)"
   ]
  },
  {
   "cell_type": "code",
   "execution_count": 23,
   "metadata": {
    "slideshow": {
     "slide_type": "slide"
    }
   },
   "outputs": [
    {
     "data": {
      "text/plain": [
       "ARCH LM test for conditional heteroskedasticity\n",
       "-----------------------------------------------\n",
       "Population details:\n",
       "    parameter of interest:   T⋅R² in auxiliary regression\n",
       "    value under h_0:         0\n",
       "    point estimate:          0.0873996\n",
       "\n",
       "Test summary:\n",
       "    outcome with 95% confidence: fail to reject h_0\n",
       "    p-value:                     0.7675\n",
       "\n",
       "Details:\n",
       "    sample size:                    10000\n",
       "    number of lags:                 1\n",
       "    LM statistic:                   0.0873996\n"
      ]
     },
     "execution_count": 23,
     "metadata": {},
     "output_type": "execute_result"
    }
   ],
   "source": [
    "ARCHLMTest(mymodel) # tests the standardized residuals"
   ]
  },
  {
   "cell_type": "code",
   "execution_count": 24,
   "metadata": {},
   "outputs": [
    {
     "data": {
      "text/plain": [
       "0.9582988646322497"
      ]
     },
     "execution_count": 24,
     "metadata": {},
     "output_type": "execute_result"
    }
   ],
   "source": [
    "predict(mymodel, :volatility) # (:volatility | :variance | :return | :VaR)"
   ]
  },
  {
   "cell_type": "markdown",
   "metadata": {
    "slideshow": {
     "slide_type": "slide"
    }
   },
   "source": [
    "## Value at Risk"
   ]
  },
  {
   "cell_type": "markdown",
   "metadata": {},
   "source": [
    "* In-sample Value-at-Risk estimates are available via the `VaRs` function"
   ]
  },
  {
   "cell_type": "code",
   "execution_count": 25,
   "metadata": {
    "slideshow": {
     "slide_type": "-"
    }
   },
   "outputs": [],
   "source": [
    "model = fit(GARCH{1, 1}, data)\n",
    "vars = VaRs(model, 0.05)\n",
    "\n",
    "if !isfile(\"VaRplot.svg\")\n",
    "    using Plots\n",
    "    plot(-data, legend=:none, xlabel=\"\\$t\\$\", ylabel=\"\\$-r_t\\$\", title=\"Value at Risk, In-Sample\")\n",
    "    plot!(vars, color=:purple)\n",
    "    savefig(\"VaRplot.svg\"); \n",
    "end"
   ]
  },
  {
   "cell_type": "markdown",
   "metadata": {
    "slideshow": {
     "slide_type": "slide"
    }
   },
   "source": [
    "<img src=\"VaRplot.svg\" alt=\"VALUE AT RISK\" style=\"display:block; margin-left: auto; margin-right: auto; width: 50%;\">"
   ]
  },
  {
   "cell_type": "markdown",
   "metadata": {
    "slideshow": {
     "slide_type": "slide"
    }
   },
   "source": [
    "* How about out-of-sample (backtesting)?\n",
    "* Requires re-estimating the model at each time step.\n",
    "* Not built in, but easy to do:"
   ]
  },
  {
   "cell_type": "code",
   "execution_count": 26,
   "metadata": {
    "slideshow": {
     "slide_type": "-"
    }
   },
   "outputs": [
    {
     "name": "stderr",
     "output_type": "stream",
     "text": [
      "\u001b[32mFitting 9204 GARCH models: 100%|████████████████████████| Time: 0:00:24\u001b[39m\n"
     ]
    }
   ],
   "source": [
    "using ProgressMeter\n",
    "\n",
    "T = length(data)\n",
    "windowsize = 1000\n",
    "vars = similar(data); fill!(vars, NaN)\n",
    "@showprogress \"Fitting $(T-1-windowsize) GARCH models: \" for t = windowsize+1:T-1\n",
    "    m = fit(GARCH{1, 1}, data[t-windowsize:t])\n",
    "    vars[t+1] = predict(m, :VaR; level=0.05)    \n",
    "end\n",
    "\n",
    "if !isfile(\"VaRplot_oos.svg\")\n",
    "    using Plots\n",
    "    plot(-data, legend=:none, xlabel=\"\\$t\\$\", ylabel=\"\\$-r_t\\$\", title=\"Value at Risk, Out-of-Sample\")\n",
    "    plot!(vars, color=:purple)\n",
    "    savefig(\"VaRplot_oos.svg\"); \n",
    "end"
   ]
  },
  {
   "cell_type": "markdown",
   "metadata": {
    "slideshow": {
     "slide_type": "slide"
    }
   },
   "source": [
    "<img src=\"VaRplot_oos.svg\" alt=\"VALUE AT RISK OUT OF SAMPLE\" style=\"display:block; margin-left: auto; margin-right: auto; width: 50%;\">"
   ]
  },
  {
   "cell_type": "markdown",
   "metadata": {
    "slideshow": {
     "slide_type": "slide"
    }
   },
   "source": [
    "* We can backtest these out-of-sample VaR predictions using Engle and Manganelli's (2004) dynamic quantile test.\n",
    "* The test is based on a *hit series* \n",
    "$$I_t\\equiv\\cases{1, r_t<-VaR_t\\\\0, \\mbox{otherwise.}}$$\n",
    "* The null is that $\\alpha=\\beta=\\gamma=0$ in the auxiliary regression\n",
    "$$\n",
    "I_t-0.05 = \\alpha +\\beta I_{t-1} + \\gamma VaR_t+\\epsilon_t.\n",
    "$$"
   ]
  },
  {
   "cell_type": "code",
   "execution_count": 27,
   "metadata": {
    "slideshow": {
     "slide_type": "slide"
    }
   },
   "outputs": [
    {
     "data": {
      "text/plain": [
       "Engle and Manganelli's (2004) DQ test (out of sample)\n",
       "-----------------------------------------------------\n",
       "Population details:\n",
       "    parameter of interest:   Wald statistic in auxiliary regression\n",
       "    value under h_0:         0\n",
       "    point estimate:          35.834\n",
       "\n",
       "Test summary:\n",
       "    outcome with 95% confidence: reject h_0\n",
       "    p-value:                     <1e-07\n",
       "\n",
       "Details:\n",
       "    sample size:                    9205\n",
       "    number of lags:                 1\n",
       "    VaR level:                      0.05\n",
       "    DQ statistic:                   35.834\n"
      ]
     },
     "execution_count": 27,
     "metadata": {},
     "output_type": "execute_result"
    }
   ],
   "source": [
    "DQTest(data[windowsize+1:end], vars[windowsize+1:end], 0.05)"
   ]
  },
  {
   "cell_type": "markdown",
   "metadata": {
    "slideshow": {
     "slide_type": "slide"
    }
   },
   "source": [
    "# Benchmarks\n",
    "  * Bollerslev and Ghysels (JBES 1996) data is de facto standard in comparing implementations of GARCH models.\n",
    "  * Data consist of daily German mark/British pound exchange rates (1974 observations).\n",
    "  * Available in `ARCHModels.jl` as the constant `BG96`."
   ]
  },
  {
   "cell_type": "code",
   "execution_count": 28,
   "metadata": {
    "slideshow": {
     "slide_type": "skip"
    }
   },
   "outputs": [],
   "source": [
    "if !isfile(\"DMGBP.svg\")\n",
    "    using Plots\n",
    "    plot(BG96, legend=:none, title=\"Bollerslev and Ghysels (1996) Data\", ylabel=\"\\$r_t\\$\", xlabel=\"\\$t\\$\")\n",
    "    savefig(\"DMGBP.svg\")\n",
    "end"
   ]
  },
  {
   "cell_type": "markdown",
   "metadata": {
    "slideshow": {
     "slide_type": "slide"
    }
   },
   "source": [
    "<img src=\"DMGBP.svg\" alt=\"Bollerslev and Ghysels (1996) data\" style=\"display:block; margin-left: auto; margin-right: auto; width: 50%;\">"
   ]
  },
  {
   "cell_type": "markdown",
   "metadata": {
    "slideshow": {
     "slide_type": "slide"
    }
   },
   "source": [
    "## GARCH\n",
    "* Fitting in Julia:"
   ]
  },
  {
   "cell_type": "code",
   "execution_count": 29,
   "metadata": {
    "slideshow": {
     "slide_type": "-"
    }
   },
   "outputs": [
    {
     "name": "stdout",
     "output_type": "stream",
     "text": [
      "  3.208 ms (2546 allocations: 203.33 KiB)\n"
     ]
    },
    {
     "data": {
      "text/plain": [
       "\n",
       "GARCH{1, 1} model with Gaussian errors, T=1974.\n",
       "\n",
       "Mean equation parameters:\n",
       "───────────────────────────────────────────────\n",
       "      Estimate   Std.Error    z value  Pr(>|z|)\n",
       "───────────────────────────────────────────────\n",
       "μ  -0.00616637  0.00920152  -0.670147    0.5028\n",
       "───────────────────────────────────────────────\n",
       "\n",
       "Volatility parameters:\n",
       "─────────────────────────────────────────────\n",
       "     Estimate   Std.Error   z value  Pr(>|z|)\n",
       "─────────────────────────────────────────────\n",
       "ω   0.0107606  0.00649303   1.65725    0.0975\n",
       "β₁  0.805875   0.0724765   11.1191     <1e-27\n",
       "α₁  0.153411   0.0536404    2.86       0.0042\n",
       "─────────────────────────────────────────────\n"
      ]
     },
     "execution_count": 29,
     "metadata": {},
     "output_type": "execute_result"
    }
   ],
   "source": [
    "using BenchmarkTools\n",
    "@btime fit(GARCH{1, 1}, $BG96)"
   ]
  },
  {
   "cell_type": "markdown",
   "metadata": {
    "slideshow": {
     "slide_type": "slide"
    }
   },
   "source": [
    "* Now Matlab:"
   ]
  },
  {
   "cell_type": "code",
   "execution_count": 36,
   "metadata": {},
   "outputs": [
    {
     "data": {
      "text/plain": [
       "\"9.10.0.1669831 (R2021a) Update 2\""
      ]
     },
     "execution_count": 36,
     "metadata": {},
     "output_type": "execute_result"
    }
   ],
   "source": [
    "using MATLAB # this is for calling Matlab from within Julia. I do this because a Jupyter notebook\n",
    "mat\"version\" # only supports a single language at a time."
   ]
  },
  {
   "cell_type": "code",
   "execution_count": 37,
   "metadata": {},
   "outputs": [
    {
     "name": "stdout",
     "output_type": "stream",
     "text": [
      " \n",
      "    GARCH(1,1) Conditional Variance Model with Offset (Gaussian Distribution):\n",
      " \n",
      "                  Value       StandardError    TStatistic      PValue  \n",
      "                __________    _____________    __________    __________\n",
      "\n",
      "    Constant      0.010761       0.001323         8.1342     4.1454e-16\n",
      "    GARCH{1}       0.80597        0.01656         48.669              0\n",
      "    ARCH{1}        0.15313       0.013974         10.959     6.0379e-28\n",
      "    Offset      -0.0061904      0.0084336       -0.73402        0.46294\n",
      "\n",
      "Time per run: 33.029 ms\n"
     ]
    },
    {
     "data": {
      "text/plain": [
       "0.0"
      ]
     },
     "execution_count": 37,
     "metadata": {},
     "output_type": "execute_result"
    }
   ],
   "source": [
    "mat\"\"\"\n",
    "estimate(garch('ARCHLags', 1, 'GARCHLags', 1, 'offset', NaN), $BG96); 0;\n",
    "f = @()estimate(garch('ARCHLags', 1, 'GARCHLags', 1, 'offset', NaN), $BG96, 'Display', 'off');\n",
    "t = timeit(f);\n",
    "disp(['Time per run: ', num2str(t * 1000), ' ms'])\n",
    "\"\"\""
   ]
  },
  {
   "cell_type": "markdown",
   "metadata": {
    "slideshow": {
     "slide_type": "-"
    }
   },
   "source": [
    "* ARCH.jl is faster by a factor of about 10 or more, depending on the machine, despite Matlab calling into compiled C code.\n",
    "* Estimates are quite similar, but standard errors and $t$-statistics differ.\n",
    "* So which standard errors are correct? Let's compare with the results from Brooks et. al. (Int. J. Fcst. 2001).\n",
    "* Brooks et. al. compare implementations of the GARCH(1, 1) model.\n",
    "* They give the following estimates (**$t$-stats**) as benchmarks:\n",
    "$\\mu=−0.00619$ $(\\mathbf{−0.67})$, $\\omega=0.0108$ $(\\mathbf{1.66})$, $\\beta_1=0.806$ $(\\mathbf{11.11})$, $\\alpha_1=0.153$ $(\\mathbf{2.86})$.\n",
    "* `ARCHModels.jl` is bang on. Not sure what Matlab is doing. Look at those t-stats!\n"
   ]
  },
  {
   "cell_type": "markdown",
   "metadata": {
    "slideshow": {
     "slide_type": "slide"
    }
   },
   "source": [
    "* Finally, Python:"
   ]
  },
  {
   "cell_type": "code",
   "execution_count": 45,
   "metadata": {
    "slideshow": {
     "slide_type": "-"
    }
   },
   "outputs": [
    {
     "name": "stdout",
     "output_type": "stream",
     "text": [
      "                     Constant Mean - GARCH Model Results                      \r\n",
      "==============================================================================\r\n",
      "Dep. Variable:                      y   R-squared:                       0.000\r\n",
      "Mean Model:             Constant Mean   Adj. R-squared:                  0.000\r\n",
      "Vol Model:                      GARCH   Log-Likelihood:               -1104.52\r\n",
      "Distribution:                  Normal   AIC:                           2217.04\r\n",
      "Method:            Maximum Likelihood   BIC:                           2239.39\r\n",
      "                                        No. Observations:                 1974\r\n",
      "Date:                Sun, Jun 06 2021   Df Residuals:                     1973\r\n",
      "Time:                        18:42:58   Df Model:                            1\r\n",
      "                                  Mean Model                                  \r\n",
      "==============================================================================\r\n",
      "                  coef    std err          t      P>|t|       95.0% Conf. Int.\r\n",
      "------------------------------------------------------------------------------\r\n",
      "mu         -6.0765e-03  9.197e-03     -0.661      0.509 [-2.410e-02,1.195e-02]\r\n",
      "                               Volatility Model                              \r\n",
      "=============================================================================\r\n",
      "                 coef    std err          t      P>|t|       95.0% Conf. Int.\r\n",
      "-----------------------------------------------------------------------------\r\n",
      "omega      9.9151e-03  6.341e-03      1.564      0.118 [-2.512e-03,2.234e-02]\r\n",
      "alpha[1]       0.1455  5.573e-02      2.611  9.039e-03    [3.626e-02,  0.255]\r\n",
      "beta[1]        0.8168  7.445e-02     10.971  5.253e-28      [  0.671,  0.963]\r\n",
      "=============================================================================\r\n",
      "\r\n",
      "Covariance estimator: robust\r\n",
      "Time per run: 17.62993399999914 ms\r\n"
     ]
    }
   ],
   "source": [
    "using PyCall # for calling Python from within Julia\n",
    "py\"\"\"import pandas as pd\n",
    "import timeit\n",
    "import functools\n",
    "from arch.univariate.mean import ConstantMean\n",
    "from arch.univariate.distribution import Normal\n",
    "from arch.univariate import GARCH\n",
    "am = ConstantMean($BG96, rescale=False)\n",
    "am.volatility = GARCH(1, 0, 1)\n",
    "N = 100\n",
    "print(am.fit(disp=\"off\"))\n",
    "print(\"Time per run:\", timeit.timeit(functools.partial(am.fit, disp=\"off\"), number=N) / N * 1000, \"ms\") \"\"\""
   ]
  },
  {
   "cell_type": "markdown",
   "metadata": {
    "slideshow": {
     "slide_type": "slide"
    }
   },
   "source": [
    "# Conclusion\n",
    "\n",
    "* We beat Matlab by a factor of about 10 and Python's `arch` package by a factor of about 6, all while delivering estimates that are closer to the benchmark. We also beat R's `rugarch` package by a factor of about 30.\n",
    "* This is despite the fact that all these packages implement the numerically heavy stuff in C rather than natively.\n",
    "* This is the _unreasonable effectiveness of Julia_: it walks like Python and runs like C."
   ]
  },
  {
   "cell_type": "markdown",
   "metadata": {
    "slideshow": {
     "slide_type": "slide"
    }
   },
   "source": [
    "#  TODO\n",
    "* More distributions (NIG, $\\alpha$-Stable, ...)\n",
    "* More GARCH models (APARCH, RiskMetrics, IGARCH, ...)\n",
    "* Portfolio VaR: Compute the VaR of a portfolio, possibly containing derivatives, via the multivariate Delta-Gamma approximation.\n",
    "* Made feasible by the results of Broda and Arismendi (Biometrika 2021), under the assumption of a multivariate generalize hyperbolic (MGHyp) distribution.\n",
    "* This flexible distribution nests, among others, the Normal, Student's $t$, Variance Gamma, Normal Inverse Gaussian, ...\n",
    "* The scary looking expression on the next slide is already available with my Julia package `QuadraticFormsMGHyp.jl`.\n",
    "\n"
   ]
  },
  {
   "cell_type": "markdown",
   "metadata": {
    "slideshow": {
     "slide_type": "slide"
    }
   },
   "source": [
    "__Theorem__ (Broda and Arismendi, Biometrika 2021) Let $L= a_0+{a}^{T}X+X^{T}{A}X$, where $X\\sim \\mathrm{MGHyp({{\\mu},{C},{\\gamma},\\lambda,\\chi,\\psi})}$. Then\n",
    "\\begin{equation}\\label{eq:mghcdf}\n",
    "\\mathbb{P}(L\\leq l)=\\frac{1}{2}-\\frac{1}{\\pi}\\int_{0}^{\\infty}\\mathrm{Im}\\left\\{\n",
    "\\Xi_{\\lambda}(s,-xs,\\chi,\\psi)\\right\\}\\frac{\\mathrm{d}s}{s},\n",
    "\\end{equation}\n",
    "where $x= l-a_0-{a}^{T}{\\mu}-{\\mu}^{T}{A}{\\mu}$,\n",
    "\\begin{gather*}\n",
    "\\Xi_{\\lambda}(s,t,\\chi,\\psi)=\\frac{k_\\lambda\\{\\chi-2\\alpha_2(s)-2\\mathrm{i}t,\\psi-2\\alpha_1(s)\\}}{k_\\lambda(\\chi,\\psi)}\\rho(s),\\\\\n",
    "\\alpha_1(s)=\\mathrm{i}ks-\\frac{1}{2}s^2\\sum_{j=1}^d\\frac{e_j^2}{1-2\\mathrm{i}s\\lambda_j},\\quad\n",
    "\\alpha_2(s)=-\\frac{1}{2}s^2\\sum_{j=1}^d\\frac{d_j^2}{1-2\\mathrm{i}s\\lambda_j},\\\\\n",
    "\\rho(s)=\\exp\\left(\\mathrm{i}sc-s^2 \\sum_{j=1}^d\\frac{d_je_j}{1-2\\mathrm{i}s\\lambda_j}\\right)\\prod_{j=1}^d(1-2\\mathrm{i}s\\lambda_j)^{-1/2},\n",
    "\\end{gather*}\n",
    "$\\lambda_{j}, j \\in\\{1,\\ldots,d\\}$ are the eigenvalues of ${C}^{T}{A}{C}$, ${P}$ is an orthogonal matrix with the corresponding eigenvectors as its columns,\n",
    "$c= {a}^{T}{\\gamma}+ 2 {\\mu}^{T}{A}{\\gamma}$, $d_j$ and $e_j$ are the individual elements of ${d}={a}^{T}{CP}+2{\\mu}^{T}{ACP}$ and ${e}= {\\gamma}{ACP}$, and $k={\\gamma}^{T}{A}{\\gamma}$.\n"
   ]
  },
  {
   "cell_type": "markdown",
   "metadata": {
    "slideshow": {
     "slide_type": "slide"
    }
   },
   "source": [
    "# References\n",
    "* Bollerslev, T (1986). Generalized autoregressive conditional heteroskedasticity. *Journal of Econometrics* **31**, 307–327.\n",
    "* Bollerslev, T. & Ghysels, E. (1996). Periodic Autoregressive Conditional Heteroscedasticity. *Journal of Business & Economic Statistics* **14**, 139-151. https://doi.org/10.1080/07350015.1996.10524640.\n",
    "* Broda, S.A. & Arismendi Zambrano, J. (2021). On quadratic forms in multivariate generalized hyperbolic\n",
    "random vectors. *Biometrika* **108**, https://doi.org/413-424.0.1093/biomet/asaa067.\n",
    "* __Broda, S.A. & Paolella, M. (2020). `ARCHModels.jl`: Estimating Arch Models in Julia. Available on SSRN. https://dx.doi.org/10.2139/ssrn.3551503__\n",
    "* Brooks, C., Burke, S. P., & Persand, G. (2001). Benchmarks and the accuracy of GARCH model estimation. *International Journal of Forecasting* **17**, 45-56. https://doi.org/10.1016/S0169-2070(00)00070-4.\n",
    "* Engle, R. F. (1982). Autoregressive Conditional Heteroscedasticity with Estimates of the Variance of United Kingdom Inflation. *Econometrica* **50**, 987-1007. https://doi.org/10.2307/1912773.\n",
    "* Engle, R. F., and Manganelli, S. (2004). CAViaR: Conditional Autoregressive Value at Risk by Regression Quantiles. *Journal of Business & Economic Statistics* **22**, 367-381. https://doi.org/10.1198/073500104000000370\n",
    "* Nelson, D.B. (1991). Conditional Heteroskedasticity in Asset Returns: A New Approach. *Econometrica* **59**, 347--370. https://doi.org/10.2307/2938260.\n",
    "\n"
   ]
  },
  {
   "cell_type": "markdown",
   "metadata": {
    "slideshow": {
     "slide_type": "slide"
    }
   },
   "source": [
    "##### <p style=\"text-align: center; font-size: 300%\"> Thank you! Questions? </p>"
   ]
  }
 ],
 "metadata": {
  "celltoolbar": "Slideshow",
  "kernelspec": {
   "display_name": "Julia 1.6.0",
   "language": "julia",
   "name": "julia-1.6"
  },
  "language_info": {
   "file_extension": ".jl",
   "mimetype": "application/julia",
   "name": "julia",
   "version": "1.6.0"
  },
  "livereveal": {
   "auto_select": "code",
   "auto_select_fragment": true,
   "start_slideshow_at": "selected"
  }
 },
 "nbformat": 4,
 "nbformat_minor": 2
}
